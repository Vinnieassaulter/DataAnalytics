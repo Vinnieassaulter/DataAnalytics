{
 "cells": [
  {
   "attachments": {},
   "cell_type": "markdown",
   "metadata": {},
   "source": [
    "# Import library"
   ]
  },
  {
   "cell_type": "code",
   "execution_count": 612,
   "metadata": {},
   "outputs": [],
   "source": [
    "import os \n",
    "import numpy as np\n",
    "import pandas as pd\n",
    "import seaborn as sns\n",
    "import matplotlib.pyplot as plt\n",
    "from nltk.corpus import stopwords\n",
    "import datasketch\n",
    "from tqdm import tqdm\n",
    "\n",
    "import nltk"
   ]
  },
  {
   "cell_type": "code",
   "execution_count": 613,
   "metadata": {},
   "outputs": [
    {
     "name": "stdout",
     "output_type": "stream",
     "text": [
      "/Users/yusuke_sugihara/DA_Project1/DataAnalytics/Quora-question-pair-similarity\n",
      "/Users/yusuke_sugihara/DA_Project1/DataAnalytics/data\n"
     ]
    }
   ],
   "source": [
    "print(os.getcwd())\n",
    "path = os.path.abspath(os.path.join(os.getcwd(), \"../data\"))\n",
    "print(path)\n",
    "# data_train = pd.read_csv(path + '/train.csv')\n",
    "data_train = pd.read_csv(path + '/train.csv',index_col='id')\n"
   ]
  },
  {
   "attachments": {},
   "cell_type": "markdown",
   "metadata": {},
   "source": [
    "# Preprocessing and Exploratory Data Analysis(Simple ver.)"
   ]
  },
  {
   "cell_type": "code",
   "execution_count": 614,
   "metadata": {},
   "outputs": [
    {
     "name": "stdout",
     "output_type": "stream",
     "text": [
      "(404290, 5)\n",
      "    qid1  qid2                                          question1  \\\n",
      "id                                                                  \n",
      "0      1     2  What is the step by step guide to invest in sh...   \n",
      "1      3     4  What is the story of Kohinoor (Koh-i-Noor) Dia...   \n",
      "2      5     6  How can I increase the speed of my internet co...   \n",
      "3      7     8  Why am I mentally very lonely? How can I solve...   \n",
      "4      9    10  Which one dissolve in water quikly sugar, salt...   \n",
      "\n",
      "                                            question2  is_duplicate  \n",
      "id                                                                   \n",
      "0   What is the step by step guide to invest in sh...             0  \n",
      "1   What would happen if the Indian government sto...             0  \n",
      "2   How can Internet speed be increased by hacking...             0  \n",
      "3   Find the remainder when [math]23^{24}[/math] i...             0  \n",
      "4             Which fish would survive in salt water?             0  \n"
     ]
    }
   ],
   "source": [
    "print(data_train.shape)\n",
    "print(data_train.head())"
   ]
  },
  {
   "cell_type": "code",
   "execution_count": 615,
   "metadata": {},
   "outputs": [
    {
     "name": "stdout",
     "output_type": "stream",
     "text": [
      "          qid1    qid2                                          question1  \\\n",
      "id                                                                          \n",
      "108281  177958  177959  How can I get more information on cryptocurrency?   \n",
      "365075  165259  495170  How much does each miner in Gold Rush: Alaska ...   \n",
      "399424  110838  408590  Can a stock exchange be listed in another stoc...   \n",
      "116651  189968  189969  What is the top speed of the quickest football...   \n",
      "251097    6403   53276       Is there any way of knowing if a guy is gay?   \n",
      "220896  310761   60581         Which is the best laptop to buy under 22k?   \n",
      "236047  346878  346879  Can I press charges against someone who keeps ...   \n",
      "321985  299182    3976  Which are the famous tourist places in Chhatti...   \n",
      "377916   76930   84506  Is there a difference between native mini disp...   \n",
      "387985  304668  175705  How can I contact Instagram regarding my hacke...   \n",
      "\n",
      "                                                question2  is_duplicate  \n",
      "id                                                                       \n",
      "108281     What can you say about kerala Congress's exit?             0  \n",
      "365075  What kind of dog does the Hoffman crew have wi...             0  \n",
      "399424          What is stock exchange and its functions?             0  \n",
      "116651  Who are your top 5 best foreign football playe...             0  \n",
      "251097  What are some subtle ways to tell if a guy is ...             1  \n",
      "220896         Which is the best laptop to buy under 30k?             0  \n",
      "236047  Where can I found expert & very knowledgeable ...             0  \n",
      "321985  Where are the foremost tourist places in Chhat...             1  \n",
      "377916  Is there a difference between native mini disp...             1  \n",
      "387985  How can I contact Instagram regarding compromi...             1  \n"
     ]
    }
   ],
   "source": [
    "print(data_train.sample(10, random_state=10))"
   ]
  },
  {
   "cell_type": "code",
   "execution_count": 616,
   "metadata": {},
   "outputs": [
    {
     "name": "stdout",
     "output_type": "stream",
     "text": [
      "<class 'pandas.core.frame.DataFrame'>\n",
      "Int64Index: 404290 entries, 0 to 404289\n",
      "Data columns (total 5 columns):\n",
      " #   Column        Non-Null Count   Dtype \n",
      "---  ------        --------------   ----- \n",
      " 0   qid1          404290 non-null  int64 \n",
      " 1   qid2          404290 non-null  int64 \n",
      " 2   question1     404289 non-null  object\n",
      " 3   question2     404288 non-null  object\n",
      " 4   is_duplicate  404290 non-null  int64 \n",
      "dtypes: int64(3), object(2)\n",
      "memory usage: 18.5+ MB\n"
     ]
    }
   ],
   "source": [
    "data_train.info()"
   ]
  },
  {
   "cell_type": "code",
   "execution_count": 617,
   "metadata": {},
   "outputs": [
    {
     "data": {
      "text/html": [
       "<div>\n",
       "<style scoped>\n",
       "    .dataframe tbody tr th:only-of-type {\n",
       "        vertical-align: middle;\n",
       "    }\n",
       "\n",
       "    .dataframe tbody tr th {\n",
       "        vertical-align: top;\n",
       "    }\n",
       "\n",
       "    .dataframe thead th {\n",
       "        text-align: right;\n",
       "    }\n",
       "</style>\n",
       "<table border=\"1\" class=\"dataframe\">\n",
       "  <thead>\n",
       "    <tr style=\"text-align: right;\">\n",
       "      <th></th>\n",
       "      <th>qid1</th>\n",
       "      <th>qid2</th>\n",
       "      <th>question1</th>\n",
       "      <th>question2</th>\n",
       "      <th>is_duplicate</th>\n",
       "    </tr>\n",
       "    <tr>\n",
       "      <th>id</th>\n",
       "      <th></th>\n",
       "      <th></th>\n",
       "      <th></th>\n",
       "      <th></th>\n",
       "      <th></th>\n",
       "    </tr>\n",
       "  </thead>\n",
       "  <tbody>\n",
       "    <tr>\n",
       "      <th>363362</th>\n",
       "      <td>493340</td>\n",
       "      <td>493341</td>\n",
       "      <td>NaN</td>\n",
       "      <td>My Chinese name is Haichao Yu. What English na...</td>\n",
       "      <td>0</td>\n",
       "    </tr>\n",
       "  </tbody>\n",
       "</table>\n",
       "</div>"
      ],
      "text/plain": [
       "          qid1    qid2 question1  \\\n",
       "id                                 \n",
       "363362  493340  493341       NaN   \n",
       "\n",
       "                                                question2  is_duplicate  \n",
       "id                                                                       \n",
       "363362  My Chinese name is Haichao Yu. What English na...             0  "
      ]
     },
     "execution_count": 617,
     "metadata": {},
     "output_type": "execute_result"
    }
   ],
   "source": [
    "# Check for null values in question 1\n",
    "data_train[~data_train['question1'].apply(lambda question: type(question) == str)]"
   ]
  },
  {
   "cell_type": "code",
   "execution_count": 618,
   "metadata": {},
   "outputs": [
    {
     "data": {
      "text/html": [
       "<div>\n",
       "<style scoped>\n",
       "    .dataframe tbody tr th:only-of-type {\n",
       "        vertical-align: middle;\n",
       "    }\n",
       "\n",
       "    .dataframe tbody tr th {\n",
       "        vertical-align: top;\n",
       "    }\n",
       "\n",
       "    .dataframe thead th {\n",
       "        text-align: right;\n",
       "    }\n",
       "</style>\n",
       "<table border=\"1\" class=\"dataframe\">\n",
       "  <thead>\n",
       "    <tr style=\"text-align: right;\">\n",
       "      <th></th>\n",
       "      <th>qid1</th>\n",
       "      <th>qid2</th>\n",
       "      <th>question1</th>\n",
       "      <th>question2</th>\n",
       "      <th>is_duplicate</th>\n",
       "    </tr>\n",
       "    <tr>\n",
       "      <th>id</th>\n",
       "      <th></th>\n",
       "      <th></th>\n",
       "      <th></th>\n",
       "      <th></th>\n",
       "      <th></th>\n",
       "    </tr>\n",
       "  </thead>\n",
       "  <tbody>\n",
       "    <tr>\n",
       "      <th>105780</th>\n",
       "      <td>174363</td>\n",
       "      <td>174364</td>\n",
       "      <td>How can I develop android app?</td>\n",
       "      <td>NaN</td>\n",
       "      <td>0</td>\n",
       "    </tr>\n",
       "    <tr>\n",
       "      <th>201841</th>\n",
       "      <td>303951</td>\n",
       "      <td>174364</td>\n",
       "      <td>How can I create an Android app?</td>\n",
       "      <td>NaN</td>\n",
       "      <td>0</td>\n",
       "    </tr>\n",
       "  </tbody>\n",
       "</table>\n",
       "</div>"
      ],
      "text/plain": [
       "          qid1    qid2                         question1 question2  \\\n",
       "id                                                                   \n",
       "105780  174363  174364    How can I develop android app?       NaN   \n",
       "201841  303951  174364  How can I create an Android app?       NaN   \n",
       "\n",
       "        is_duplicate  \n",
       "id                    \n",
       "105780             0  \n",
       "201841             0  "
      ]
     },
     "execution_count": 618,
     "metadata": {},
     "output_type": "execute_result"
    }
   ],
   "source": [
    "# Check for null values in question 2\n",
    "data_train[~data_train['question2'].apply(lambda question: type(question) == str)]"
   ]
  },
  {
   "cell_type": "code",
   "execution_count": 619,
   "metadata": {},
   "outputs": [
    {
     "data": {
      "text/plain": [
       "(404287, 5)"
      ]
     },
     "execution_count": 619,
     "metadata": {},
     "output_type": "execute_result"
    }
   ],
   "source": [
    "data_train = data_train.dropna(how=\"any\").reset_index(drop=True)\n",
    "data_train.shape"
   ]
  },
  {
   "cell_type": "code",
   "execution_count": 620,
   "metadata": {},
   "outputs": [
    {
     "data": {
      "text/plain": [
       "0    255024\n",
       "1    149263\n",
       "Name: is_duplicate, dtype: int64"
      ]
     },
     "execution_count": 620,
     "metadata": {},
     "output_type": "execute_result"
    }
   ],
   "source": [
    "data_train['is_duplicate'].value_counts()"
   ]
  },
  {
   "cell_type": "code",
   "execution_count": 621,
   "metadata": {},
   "outputs": [
    {
     "name": "stderr",
     "output_type": "stream",
     "text": [
      "/Users/yusuke_sugihara/opt/anaconda3/lib/python3.9/site-packages/seaborn/_decorators.py:36: FutureWarning: Pass the following variable as a keyword arg: x. From version 0.12, the only valid positional argument will be `data`, and passing other arguments without an explicit keyword will result in an error or misinterpretation.\n",
      "  warnings.warn(\n"
     ]
    },
    {
     "data": {
      "text/plain": [
       "<AxesSubplot:xlabel='is_duplicate', ylabel='count'>"
      ]
     },
     "execution_count": 621,
     "metadata": {},
     "output_type": "execute_result"
    },
    {
     "data": {
      "image/png": "[encoded data removed]",
      "text/plain": [
       "<Figure size 640x480 with 1 Axes>"
      ]
     },
     "metadata": {},
     "output_type": "display_data"
    }
   ],
   "source": [
    "sns.countplot(data_train['is_duplicate'])"
   ]
  },
  {
   "cell_type": "code",
   "execution_count": 622,
   "metadata": {},
   "outputs": [
    {
     "name": "stdout",
     "output_type": "stream",
     "text": [
      "          qid1    qid2                                          question1  \\\n",
      "306834  430440  430441  In the US, rather than raise the minimum wage,...   \n",
      "141915  225177  225178  Why is Thailand's total fertility rate so low ...   \n",
      "176530  271587  271588            What does having a bad job mean to you?   \n",
      "55241    64010   97413        What is fast adder and why it is called so?   \n",
      "98694   163966  163967             Should my partner and I just break up?   \n",
      "\n",
      "                                                question2  is_duplicate  \n",
      "306834  What is the minimum wage in US. Who all are su...             0  \n",
      "141915       Why are employment rates in Thailand so low?             0  \n",
      "176530  Will I be able to get a job an actuary if I ha...             0  \n",
      "55241   Picasa: Why is Picasa's picture loading speed ...             0  \n",
      "98694          How do I earn money from a wordpress blog?             0  \n"
     ]
    }
   ],
   "source": [
    "data_train = data_train.sample(20000, random_state=10)\n",
    "print(data_train.head())"
   ]
  },
  {
   "cell_type": "code",
   "execution_count": 623,
   "metadata": {},
   "outputs": [
    {
     "name": "stdout",
     "output_type": "stream",
     "text": [
      "    index                                                  0\n",
      "0  306834  In the US, rather than raise the minimum wage,...\n",
      "1  141915  Why is Thailand's total fertility rate so low ...\n",
      "2  176530            What does having a bad job mean to you?\n",
      "3   55241        What is fast adder and why it is called so?\n",
      "4   98694             Should my partner and I just break up?\n"
     ]
    },
    {
     "name": "stderr",
     "output_type": "stream",
     "text": [
      "/var/folders/11/4w81_8697d9g_9c3944_ytwh0000gn/T/ipykernel_2687/2003987698.py:1: FutureWarning: The series.append method is deprecated and will be removed from pandas in a future version. Use pandas.concat instead.\n",
      "  com_data_train = data_train['question1'].append(data_train['question2']).reset_index()\n"
     ]
    }
   ],
   "source": [
    "com_data_train = data_train['question1'].append(data_train['question2']).reset_index()\n",
    "print(com_data_train.head())\n"
   ]
  },
  {
   "cell_type": "code",
   "execution_count": 624,
   "metadata": {},
   "outputs": [],
   "source": [
    "com_data_train.drop(['index'],axis=1,inplace=True)\n",
    "com_data_train.columns = ['question']"
   ]
  },
  {
   "cell_type": "code",
   "execution_count": 625,
   "metadata": {},
   "outputs": [
    {
     "name": "stdout",
     "output_type": "stream",
     "text": [
      "                                            question\n",
      "0  In the US, rather than raise the minimum wage,...\n",
      "1  Why is Thailand's total fertility rate so low ...\n",
      "2            What does having a bad job mean to you?\n",
      "3        What is fast adder and why it is called so?\n",
      "4             Should my partner and I just break up?\n"
     ]
    }
   ],
   "source": [
    "print(com_data_train.head())"
   ]
  },
  {
   "cell_type": "code",
   "execution_count": 626,
   "metadata": {},
   "outputs": [
    {
     "name": "stdout",
     "output_type": "stream",
     "text": [
      "(40000, 1)\n"
     ]
    }
   ],
   "source": [
    "print(com_data_train.shape)"
   ]
  },
  {
   "cell_type": "code",
   "execution_count": 627,
   "metadata": {},
   "outputs": [],
   "source": [
    "# making a dictionary mapping a question to its duplicate question\n",
    "correct = data_train[data_train['is_duplicate']==1]\n",
    "correct_dict = {}\n",
    "for x,y in zip(correct['question1'],correct['question2']):\n",
    "    if correct_dict.get(x)==None:\n",
    "        correct_dict[x] = [y]\n",
    "    else:\n",
    "        correct_dict[x].append(y)\n",
    "        correct_dict[x] = [i for i in set(correct_dict[x])]\n",
    "for x,y in zip(correct['question2'],correct['question1']):\n",
    "    if correct_dict.get(x)==None:\n",
    "        correct_dict[x] = [y]\n",
    "    else:\n",
    "        correct_dict[x].append(y)\n",
    "        correct_dict[x] = [i for i in set(correct_dict[x])]"
   ]
  },
  {
   "cell_type": "code",
   "execution_count": 628,
   "metadata": {},
   "outputs": [
    {
     "name": "stderr",
     "output_type": "stream",
     "text": [
      "/var/folders/11/4w81_8697d9g_9c3944_ytwh0000gn/T/ipykernel_2687/3385088640.py:11: TqdmDeprecationWarning: This function will be removed in tqdm==5.0.0\n",
      "Please use `tqdm.notebook.tqdm` instead of `tqdm.tqdm_notebook`\n",
      "  for question in tqdm_notebook([x for x in com_data_train['question'] if type(x)==str]):\n"
     ]
    },
    {
     "data": {
      "application/vnd.jupyter.widget-view+json": {
       "model_id": "382b18dcd2ca4049b1b909a57d606546",
       "version_major": 2,
       "version_minor": 0
      },
      "text/plain": [
       "  0%|          | 0/40000 [00:00<?, ?it/s]"
      ]
     },
     "metadata": {},
     "output_type": "display_data"
    }
   ],
   "source": [
    "# Set Representation\n",
    "from nltk.corpus import stopwords\n",
    "stop_words = set(stopwords.words('english'))\n",
    "from tqdm import tnrange, tqdm_notebook\n",
    "from datasketch import MinHash, MinHashLSH\n",
    "from tqdm import tqdm\n",
    "\n",
    "set_dict={} # maps question id (eg 'm23') to set representation of question\n",
    "norm_dict={} # maps question id (eg 'm23') to actual question. May use this dictionary to evaluate results of LSH output.\n",
    "count=1\n",
    "for question in tqdm_notebook([x for x in com_data_train['question'] if type(x)==str]):\n",
    "    temp_list = []\n",
    "    for shingle in question.split(' '):\n",
    "        if shingle not in stop_words:\n",
    "            temp_list.append(shingle.lower())\n",
    "    set_dict[\"m{0}\".format(count)] = set(temp_list)\n",
    "    norm_dict[\"m{0}\".format(count)] = question\n",
    "    count +=1"
   ]
  },
  {
   "cell_type": "code",
   "execution_count": 629,
   "metadata": {},
   "outputs": [
    {
     "name": "stderr",
     "output_type": "stream",
     "text": [
      "/var/folders/11/4w81_8697d9g_9c3944_ytwh0000gn/T/ipykernel_2687/2750401366.py:6: TqdmDeprecationWarning: This function will be removed in tqdm==5.0.0\n",
      "Please use `tqdm.notebook.tqdm` instead of `tqdm.tqdm_notebook`\n",
      "  for val in tqdm_notebook(set_dict.values()):\n"
     ]
    },
    {
     "data": {
      "application/vnd.jupyter.widget-view+json": {
       "model_id": "ecdb1d5cdacb4a28b1f6dcf3e60b1a83",
       "version_major": 2,
       "version_minor": 0
      },
      "text/plain": [
       "  0%|          | 0/40000 [00:00<?, ?it/s]"
      ]
     },
     "metadata": {},
     "output_type": "display_data"
    }
   ],
   "source": [
    "# Create minHash signatures\n",
    "num_perm = 256\n",
    "min_dict = {} # maps question id (eg 'm23') to min hash signatures\n",
    "count2 = 1\n",
    "for val in tqdm_notebook(set_dict.values()): \n",
    "    m = MinHash(num_perm=num_perm)\n",
    "    for shingle in val:\n",
    "        m.update(shingle.encode('utf8'))\n",
    "    min_dict[\"m{}\".format(count2)] = m\n",
    "    count2+=1"
   ]
  },
  {
   "cell_type": "code",
   "execution_count": 630,
   "metadata": {},
   "outputs": [
    {
     "name": "stderr",
     "output_type": "stream",
     "text": [
      "/var/folders/11/4w81_8697d9g_9c3944_ytwh0000gn/T/ipykernel_2687/588069337.py:3: TqdmDeprecationWarning: This function will be removed in tqdm==5.0.0\n",
      "Please use `tqdm.notebook.tqdm` instead of `tqdm.tqdm_notebook`\n",
      "  for key in tqdm_notebook(min_dict.keys()):\n"
     ]
    },
    {
     "data": {
      "application/vnd.jupyter.widget-view+json": {
       "model_id": "2c03d05044e648ccafa77e285c72ac3d",
       "version_major": 2,
       "version_minor": 0
      },
      "text/plain": [
       "  0%|          | 0/40000 [00:00<?, ?it/s]"
      ]
     },
     "metadata": {},
     "output_type": "display_data"
    }
   ],
   "source": [
    "# Create LSH index\n",
    "lsh = MinHashLSH(threshold=0.4, num_perm=num_perm)\n",
    "for key in tqdm_notebook(min_dict.keys()):\n",
    "    lsh.insert(key,min_dict[key])"
   ]
  },
  {
   "cell_type": "code",
   "execution_count": 631,
   "metadata": {},
   "outputs": [],
   "source": [
    "def create_cand_pairs():\n",
    "    big_list = []\n",
    "    for query in min_dict.keys():\n",
    "        bucket = lsh.query(min_dict[query])\n",
    "        if len(bucket)==1:\n",
    "            big_list.append([bucket[0],\"None\"])\n",
    "        if len(bucket)>1:\n",
    "            first_val = bucket[0]\n",
    "            for val in bucket[1:]:\n",
    "                second_val = val\n",
    "                big_list.append([first_val,second_val])\n",
    "    return big_list"
   ]
  },
  {
   "cell_type": "code",
   "execution_count": 632,
   "metadata": {},
   "outputs": [],
   "source": [
    "cand_pairs = create_cand_pairs()"
   ]
  },
  {
   "cell_type": "code",
   "execution_count": 638,
   "metadata": {},
   "outputs": [],
   "source": [
    "def evaluation(cand_pairs):\n",
    "    tp = 0\n",
    "    fp = 0\n",
    "    fn = 0\n",
    "    for pair in cand_pairs:\n",
    "        if pair[1] == \"None\":\n",
    "            if str(norm_dict[pair[0]]) in correct_dict.keys():\n",
    "                    fn +=1\n",
    "        else:\n",
    "            if isinstance(correct_dict.get(norm_dict[pair[0]]), (list,)):\n",
    "                if norm_dict[pair[1]] in correct_dict.get(norm_dict[pair[0]]):\n",
    "                    tp +=1\n",
    "                else:\n",
    "                    fp +=1\n",
    "                    \n",
    "    precision = tp/(fp+tp)\n",
    "    recall = tp/(fn+tp)\n",
    "    print ('precision is {:.2f}'.format(precision))\n",
    "    print ('recall is {:.2f}'.format(recall))"
   ]
  },
  {
   "cell_type": "code",
   "execution_count": 639,
   "metadata": {},
   "outputs": [
    {
     "name": "stdout",
     "output_type": "stream",
     "text": [
      "precision is 0.02\n",
      "recall is 0.83\n"
     ]
    }
   ],
   "source": [
    "evaluation(cand_pairs)"
   ]
  }
 ],
 "metadata": {
  "kernelspec": {
   "display_name": "base",
   "language": "python",
   "name": "python3"
  },
  "language_info": {
   "codemirror_mode": {
    "name": "ipython",
    "version": 3
   },
   "file_extension": ".py",
   "mimetype": "text/x-python",
   "name": "python",
   "nbconvert_exporter": "python",
   "pygments_lexer": "ipython3",
   "version": "3.9.13"
  },
  "orig_nbformat": 4
 },
 "nbformat": 4,
 "nbformat_minor": 2
}
