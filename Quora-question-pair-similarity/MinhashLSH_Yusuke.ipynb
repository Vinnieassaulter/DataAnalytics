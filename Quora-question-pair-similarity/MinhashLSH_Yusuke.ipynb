{
 "cells": [
  {
   "attachments": {},
   "cell_type": "markdown",
   "metadata": {},
   "source": [
    "# Import libraries"
   ]
  },
  {
   "cell_type": "code",
   "execution_count": 19,
   "metadata": {},
   "outputs": [],
   "source": [
    "import os \n",
    "import numpy as np\n",
    "import pandas as pd\n",
    "import seaborn as sns\n",
    "import matplotlib.pyplot as plt\n",
    "from nltk.corpus import stopwords\n",
    "import datasketch   \n",
    "from tqdm import tqdm\n",
    "import nltk\n",
    "from nltk.corpus import stopwords\n",
    "stop_words = set(stopwords.words('english'))\n",
    "from datasketch import MinHash, MinHashLSH\n",
    "from tqdm import tqdm\n",
    "from sklearn.model_selection import train_test_split"
   ]
  },
  {
   "attachments": {},
   "cell_type": "markdown",
   "metadata": {},
   "source": [
    "## Create a folder to store the figures."
   ]
  },
  {
   "cell_type": "code",
   "execution_count": 20,
   "metadata": {},
   "outputs": [],
   "source": [
    "fig_folder = \"png\"\n",
    "if not os.path.exists(fig_folder):\n",
    "    os.makedirs(fig_folder)"
   ]
  },
  {
   "attachments": {},
   "cell_type": "markdown",
   "metadata": {},
   "source": [
    "## Import Dataset(The dataset after preprocessing)"
   ]
  },
  {
   "cell_type": "code",
   "execution_count": 21,
   "metadata": {},
   "outputs": [
    {
     "name": "stdout",
     "output_type": "stream",
     "text": [
      "/Users/yusuke_sugihara/DA_Project1/DataAnalytics/Quora-question-pair-similarity\n",
      "/Users/yusuke_sugihara/DA_Project1/DataAnalytics/data\n"
     ]
    }
   ],
   "source": [
    "print(os.getcwd())\n",
    "path = os.path.abspath(os.path.join(os.getcwd(), \"../data\"))\n",
    "print(path)\n",
    "data = pd.read_csv(path + '/data_after_text_preprocessing.csv',index_col='id')"
   ]
  },
  {
   "attachments": {},
   "cell_type": "markdown",
   "metadata": {},
   "source": [
    "# The techques that we used for this project are:\n",
    "- Locality Sensitive Hashing (LSH)\n",
    "- Machine Learning (ML)\n",
    "\n",
    "We will investigate the results of both LSH and ML to see which has a better performance by comparing some indictors such precision and recall."
   ]
  },
  {
   "attachments": {},
   "cell_type": "markdown",
   "metadata": {},
   "source": [
    "# Locality Sensitive Hashing (LSH)"
   ]
  },
  {
   "cell_type": "code",
   "execution_count": 22,
   "metadata": {},
   "outputs": [],
   "source": [
    "X = data[['question1', 'question2']] # questions\n",
    "y = data['is_duplicate'] # lable of the data (0 or 1)\n"
   ]
  },
  {
   "attachments": {},
   "cell_type": "markdown",
   "metadata": {},
   "source": [
    "### Due to the limitation of the computing power, we partially and randomly picked up samples for the LSH."
   ]
  },
  {
   "cell_type": "code",
   "execution_count": 23,
   "metadata": {},
   "outputs": [],
   "source": [
    "X_train, X_test, y_train, y_test = train_test_split(X, y, test_size=0.3, random_state=42)\n",
    "X_train = X_train[:10000] # only use 100000 data for training randomly chosen\n",
    "y_train = y_train[:10000] # only use 100000 data for training randomly chosen"
   ]
  },
  {
   "cell_type": "code",
   "execution_count": 24,
   "metadata": {},
   "outputs": [
    {
     "name": "stdout",
     "output_type": "stream",
     "text": [
      "                                                question1  \\\n",
      "id                                                          \n",
      "140908  what is the new method of angioplasty which co...   \n",
      "107096  on whatsapp  it says on the message info that ...   \n",
      "27940   how do the holy scriptures of hinduism compare...   \n",
      "157100  how long does it typically take to get a pilot...   \n",
      "111382  my questions have not changed  why are they no...   \n",
      "\n",
      "                                                question2  \n",
      "id                                                         \n",
      "140908           how much does it cost to run a hospital   \n",
      "107096  my friend is abroad and i have sent him messag...  \n",
      "27940   how do the holy scriptures of hinduism compare...  \n",
      "157100  how much does it cost to get a private pilots ...  \n",
      "111382  what should i do if my question is being marke...  \n",
      "id\n",
      "140908    0\n",
      "107096    0\n",
      "27940     0\n",
      "157100    0\n",
      "111382    1\n",
      "Name: is_duplicate, dtype: int64\n",
      "(10000, 2)\n",
      "(10000,)\n"
     ]
    }
   ],
   "source": [
    "print(X_train.head())\n",
    "print(y_train.head())\n",
    "print(X_train.shape)\n",
    "print(y_train.shape)"
   ]
  },
  {
   "attachments": {},
   "cell_type": "markdown",
   "metadata": {},
   "source": [
    "##  Create a dictionary"
   ]
  },
  {
   "cell_type": "code",
   "execution_count": 25,
   "metadata": {},
   "outputs": [
    {
     "name": "stdout",
     "output_type": "stream",
     "text": [
      "       id                                                  0\n",
      "0  140908  what is the new method of angioplasty which co...\n",
      "1  107096  on whatsapp  it says on the message info that ...\n",
      "2   27940  how do the holy scriptures of hinduism compare...\n",
      "3  157100  how long does it typically take to get a pilot...\n",
      "4  111382  my questions have not changed  why are they no...\n"
     ]
    },
    {
     "name": "stderr",
     "output_type": "stream",
     "text": [
      "/var/folders/11/4w81_8697d9g_9c3944_ytwh0000gn/T/ipykernel_23675/1814244258.py:2: FutureWarning: The series.append method is deprecated and will be removed from pandas in a future version. Use pandas.concat instead.\n",
      "  com_data_train = X_train['question1'].append(X_train['question2']).reset_index()\n"
     ]
    }
   ],
   "source": [
    "# combine the two questions into one list\n",
    "com_data_train = X_train['question1'].append(X_train['question2']).reset_index()\n",
    "print(com_data_train.head())"
   ]
  },
  {
   "cell_type": "code",
   "execution_count": 26,
   "metadata": {},
   "outputs": [
    {
     "name": "stdout",
     "output_type": "stream",
     "text": [
      "                                            question\n",
      "0  what is the new method of angioplasty which co...\n",
      "1  on whatsapp  it says on the message info that ...\n",
      "2  how do the holy scriptures of hinduism compare...\n",
      "3  how long does it typically take to get a pilot...\n",
      "4  my questions have not changed  why are they no...\n"
     ]
    }
   ],
   "source": [
    "# drop the index column because it is not needed for creating the dictionary\n",
    "com_data_train.drop(['id'],axis=1,inplace=True) \n",
    "com_data_train.columns = ['question'] # rename the column name\n",
    "print(com_data_train.head())"
   ]
  },
  {
   "cell_type": "code",
   "execution_count": 27,
   "metadata": {},
   "outputs": [
    {
     "name": "stdout",
     "output_type": "stream",
     "text": [
      "(20000, 1)\n"
     ]
    }
   ],
   "source": [
    "print(com_data_train.shape) # check the shape of the combined data"
   ]
  },
  {
   "cell_type": "code",
   "execution_count": 28,
   "metadata": {},
   "outputs": [],
   "source": [
    "# Create a dictory of all dupllcated questions.\n",
    "correct = X_train\n",
    "correct_dict = {}\n",
    "for x,y in zip(correct['question1'],correct['question2']):\n",
    "    if correct_dict.get(x)==None:\n",
    "        correct_dict[x] = [y]\n",
    "    else:\n",
    "        correct_dict[x].append(y)\n",
    "        correct_dict[x] = [i for i in set(correct_dict[x])]\n",
    "for x,y in zip(correct['question2'],correct['question1']):\n",
    "    if correct_dict.get(x)==None:\n",
    "        correct_dict[x] = [y]\n",
    "    else:\n",
    "        correct_dict[x].append(y)\n",
    "        correct_dict[x] = [i for i in set(correct_dict[x])]"
   ]
  },
  {
   "attachments": {},
   "cell_type": "markdown",
   "metadata": {},
   "source": [
    "## Set representation"
   ]
  },
  {
   "cell_type": "code",
   "execution_count": 29,
   "metadata": {},
   "outputs": [
    {
     "name": "stderr",
     "output_type": "stream",
     "text": [
      "100%|██████████| 20000/20000 [00:00<00:00, 299882.32it/s]\n"
     ]
    }
   ],
   "source": [
    "set_dict={} # maps question to set representation of question\n",
    "norm_dict={} # maps question id (eg 'm1') to actual question. We may use this dictionary to evaluate results of LSH output.\n",
    "count=1\n",
    "\n",
    "for question in tqdm([x for x in com_data_train['question'] if type(x)==str]):\n",
    "    temp_list = []\n",
    "    for shingle in question.split(' '): # shingle is a word\n",
    "        if shingle not in stop_words:\n",
    "            temp_list.append(shingle.lower())\n",
    "    set_dict[\"m{}\".format(count)] = set(temp_list)\n",
    "    norm_dict[\"m{}\".format(count)] = question\n",
    "    count +=1"
   ]
  },
  {
   "cell_type": "code",
   "execution_count": 30,
   "metadata": {},
   "outputs": [
    {
     "data": {
      "text/plain": [
       "{'',\n",
       " '5k',\n",
       " 'angioplasty',\n",
       " 'blockage',\n",
       " 'costs',\n",
       " 'hospital',\n",
       " 'j',\n",
       " 'method',\n",
       " 'mumbai',\n",
       " 'new',\n",
       " 'removal',\n",
       " 'rs'}"
      ]
     },
     "execution_count": 30,
     "metadata": {},
     "output_type": "execute_result"
    }
   ],
   "source": [
    "set_dict['m1']"
   ]
  },
  {
   "cell_type": "code",
   "execution_count": 31,
   "metadata": {},
   "outputs": [
    {
     "data": {
      "text/plain": [
       "'what is the new method of angioplasty which costs rs  5k   at j j hospital mumbai for removal of blockage '"
      ]
     },
     "execution_count": 31,
     "metadata": {},
     "output_type": "execute_result"
    }
   ],
   "source": [
    "norm_dict['m1']"
   ]
  },
  {
   "attachments": {},
   "cell_type": "markdown",
   "metadata": {},
   "source": [
    "## Minhashing"
   ]
  },
  {
   "cell_type": "code",
   "execution_count": 32,
   "metadata": {},
   "outputs": [
    {
     "name": "stderr",
     "output_type": "stream",
     "text": [
      "100%|██████████| 20000/20000 [00:24<00:00, 825.95it/s]\n"
     ]
    }
   ],
   "source": [
    "num_perm = 256 # number of permutations for MinHash\n",
    "min_dict = {} # maps question to \"min hash signatures\"\n",
    "count2 = 1\n",
    "for val in tqdm (set_dict.values()): \n",
    "    m = MinHash(num_perm=num_perm) # create a MinHash object\n",
    "    for shingle in val: \n",
    "        m.update(shingle.encode('utf8')) \n",
    "    min_dict[\"m{}\".format(count2)] = m # add the minhash signature to the dictionary\n",
    "    count2+=1\n",
    "    \n",
    "# print(min_dict['m1'].hashvalues)"
   ]
  },
  {
   "attachments": {},
   "cell_type": "markdown",
   "metadata": {},
   "source": [
    "## Localtiy Sensitive Hashing (LSH) phase"
   ]
  },
  {
   "cell_type": "code",
   "execution_count": 33,
   "metadata": {},
   "outputs": [],
   "source": [
    "# find the candidates pairs in the training data\n",
    "def create_cand_pairs(lsh):\n",
    "    big_list = []\n",
    "    for query in min_dict.keys():\n",
    "        bucket = lsh.query(min_dict[query])\n",
    "        if len(bucket)==1:\n",
    "            big_list.append([bucket[0],\"None\"])\n",
    "        if len(bucket)>1:\n",
    "            first_val = bucket[0]\n",
    "            for val in bucket[1:]:\n",
    "                second_val = val\n",
    "                big_list.append([first_val,second_val])\n",
    "    return big_list"
   ]
  },
  {
   "attachments": {},
   "cell_type": "markdown",
   "metadata": {},
   "source": [
    "## Evaluation"
   ]
  },
  {
   "cell_type": "code",
   "execution_count": 34,
   "metadata": {},
   "outputs": [],
   "source": [
    "def evaluation(cand_pairs):\n",
    "    tp = 0 # true positive\n",
    "    fp = 0 # false positive\n",
    "    fn = 0 # false negative\n",
    "    for pair in cand_pairs:\n",
    "        if pair[1] == \"None\":\n",
    "            if str(norm_dict[pair[0]]) in correct_dict.keys():\n",
    "                    fn +=1\n",
    "        else:\n",
    "            if isinstance(correct_dict.get(norm_dict[pair[0]]), (list,)):\n",
    "                if norm_dict[pair[1]] in correct_dict.get(norm_dict[pair[0]]):\n",
    "                    tp +=1\n",
    "                else:\n",
    "                    fp +=1\n",
    "                    \n",
    "    precision = tp/(fp+tp)\n",
    "    recall = tp/(fn+tp)\n",
    "    print ('precision is {:.2f}'.format(precision))\n",
    "    print ('recall is {:.2f}'.format(recall))\n",
    "    return precision, recall"
   ]
  },
  {
   "cell_type": "code",
   "execution_count": 35,
   "metadata": {},
   "outputs": [
    {
     "name": "stderr",
     "output_type": "stream",
     "text": [
      "100%|██████████| 20000/20000 [00:02<00:00, 8036.42it/s]\n",
      " 12%|█▎        | 1/8 [00:25<02:58, 25.44s/it]"
     ]
    },
    {
     "name": "stdout",
     "output_type": "stream",
     "text": [
      "precision is 0.00\n",
      "recall is 1.00\n"
     ]
    },
    {
     "name": "stderr",
     "output_type": "stream",
     "text": [
      "100%|██████████| 20000/20000 [00:01<00:00, 11212.94it/s]\n",
      " 25%|██▌       | 2/8 [00:31<01:24, 14.07s/it]"
     ]
    },
    {
     "name": "stdout",
     "output_type": "stream",
     "text": [
      "precision is 0.01\n",
      "recall is 0.90\n"
     ]
    },
    {
     "name": "stderr",
     "output_type": "stream",
     "text": [
      "100%|██████████| 20000/20000 [00:02<00:00, 6686.71it/s]\n",
      " 38%|███▊      | 3/8 [00:36<00:48,  9.70s/it]"
     ]
    },
    {
     "name": "stdout",
     "output_type": "stream",
     "text": [
      "precision is 0.03\n",
      "recall is 0.69\n"
     ]
    },
    {
     "name": "stderr",
     "output_type": "stream",
     "text": [
      "100%|██████████| 20000/20000 [00:02<00:00, 9275.63it/s]\n",
      " 50%|█████     | 4/8 [00:39<00:28,  7.15s/it]"
     ]
    },
    {
     "name": "stdout",
     "output_type": "stream",
     "text": [
      "precision is 0.07\n",
      "recall is 0.54\n"
     ]
    },
    {
     "name": "stderr",
     "output_type": "stream",
     "text": [
      "100%|██████████| 20000/20000 [00:00<00:00, 22006.73it/s]\n",
      " 62%|██████▎   | 5/8 [00:42<00:16,  5.58s/it]"
     ]
    },
    {
     "name": "stdout",
     "output_type": "stream",
     "text": [
      "precision is 0.21\n",
      "recall is 0.36\n"
     ]
    },
    {
     "name": "stderr",
     "output_type": "stream",
     "text": [
      "100%|██████████| 20000/20000 [00:00<00:00, 28775.19it/s]\n",
      " 75%|███████▌  | 6/8 [00:43<00:08,  4.12s/it]"
     ]
    },
    {
     "name": "stdout",
     "output_type": "stream",
     "text": [
      "precision is 0.28\n",
      "recall is 0.25\n"
     ]
    },
    {
     "name": "stderr",
     "output_type": "stream",
     "text": [
      "100%|██████████| 20000/20000 [00:00<00:00, 38268.52it/s]\n",
      " 88%|████████▊ | 7/8 [00:44<00:03,  3.08s/it]"
     ]
    },
    {
     "name": "stdout",
     "output_type": "stream",
     "text": [
      "precision is 0.37\n",
      "recall is 0.14\n"
     ]
    },
    {
     "name": "stderr",
     "output_type": "stream",
     "text": [
      "100%|██████████| 20000/20000 [00:00<00:00, 62435.82it/s]\n",
      "100%|██████████| 8/8 [00:44<00:00,  5.61s/it]"
     ]
    },
    {
     "name": "stdout",
     "output_type": "stream",
     "text": [
      "precision is 0.36\n",
      "recall is 0.07\n"
     ]
    },
    {
     "name": "stderr",
     "output_type": "stream",
     "text": [
      "\n"
     ]
    }
   ],
   "source": [
    "lsh_list = []\n",
    "precision_list = []\n",
    "recall_list = []\n",
    "\n",
    "for i in range(2,10):\n",
    "    lsh = MinHashLSH(threshold=i/10, num_perm=num_perm)\n",
    "    lsh_list.append(lsh)\n",
    "\n",
    "for lsh in tqdm(lsh_list):\n",
    "    for key in tqdm(min_dict.keys()):\n",
    "        lsh.insert(key,min_dict[key])\n",
    "    precision, recall = evaluation(create_cand_pairs(lsh))\n",
    "    \n",
    "    precision_list.append(precision)\n",
    "    recall_list.append(recall)"
   ]
  },
  {
   "attachments": {},
   "cell_type": "markdown",
   "metadata": {},
   "source": [
    "## Result of LSH (Precision and Recall)"
   ]
  },
  {
   "cell_type": "code",
   "execution_count": 36,
   "metadata": {},
   "outputs": [
    {
     "data": {
      "image/png": "[encoded data removed]",
      "text/plain": [
       "<Figure size 450x450 with 1 Axes>"
      ]
     },
     "metadata": {},
     "output_type": "display_data"
    }
   ],
   "source": [
    "fig, ax = plt.subplots(figsize=(4.5,4.5))\n",
    "plt.plot([i/10 for i in range(2,10)],precision_list, label='precision', linewidth=2)\n",
    "plt.plot([i/10 for i in range(2,10)],recall_list, label='recall',linewidth=2)\n",
    "plt.title(\"Precision and Recall for different thresholds\")\n",
    "plt.legend()\n",
    "plt.xlabel(\"Threshold\")\n",
    "plt.ylabel(\"Precision/Recall\")\n",
    "plt.tight_layout()\n",
    "plt.savefig(os.path.join(fig_folder, 'precision_recall.png'), dpi=450)\n",
    "plt.show()"
   ]
  }
 ],
 "metadata": {
  "kernelspec": {
   "display_name": "base",
   "language": "python",
   "name": "python3"
  },
  "language_info": {
   "codemirror_mode": {
    "name": "ipython",
    "version": 3
   },
   "file_extension": ".py",
   "mimetype": "text/x-python",
   "name": "python",
   "nbconvert_exporter": "python",
   "pygments_lexer": "ipython3",
   "version": "3.10.9"
  },
  "orig_nbformat": 4
 },
 "nbformat": 4,
 "nbformat_minor": 2
}
