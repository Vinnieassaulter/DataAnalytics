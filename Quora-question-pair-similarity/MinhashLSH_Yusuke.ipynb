{
 "cells": [
  {
   "attachments": {},
   "cell_type": "markdown",
   "metadata": {},
   "source": [
    "# Import library"
   ]
  },
  {
   "cell_type": "code",
   "execution_count": 146,
   "metadata": {},
   "outputs": [],
   "source": [
    "import os \n",
    "import numpy as np\n",
    "import pandas as pd\n",
    "import seaborn as sns\n",
    "import matplotlib.pyplot as plt\n",
    "from nltk.corpus import stopwords\n",
    "import datasketch   \n",
    "from tqdm import tqdm\n",
    "\n",
    "import nltk"
   ]
  },
  {
   "attachments": {},
   "cell_type": "markdown",
   "metadata": {},
   "source": [
    "# Import Dataset(The dataset after preprocessing)"
   ]
  },
  {
   "cell_type": "code",
   "execution_count": 147,
   "metadata": {},
   "outputs": [
    {
     "name": "stdout",
     "output_type": "stream",
     "text": [
      "/Users/yusuke_sugihara/DA_Project1/DataAnalytics/Quora-question-pair-similarity\n",
      "/Users/yusuke_sugihara/DA_Project1/DataAnalytics/data\n"
     ]
    }
   ],
   "source": [
    "print(os.getcwd())\n",
    "path = os.path.abspath(os.path.join(os.getcwd(), \"../data\"))\n",
    "print(path)\n",
    "data = pd.read_csv(path + '/data_after_text_preprocessing.csv',index_col='id')"
   ]
  },
  {
   "attachments": {},
   "cell_type": "markdown",
   "metadata": {},
   "source": [
    "# Preprocessing and Exploratory Data Analysis(Simple ver.)"
   ]
  },
  {
   "cell_type": "code",
   "execution_count": 148,
   "metadata": {},
   "outputs": [
    {
     "name": "stdout",
     "output_type": "stream",
     "text": [
      "(404287, 8)\n",
      "    qid1  qid2                                          question1  \\\n",
      "id                                                                  \n",
      "0      1     2  what is the step by step guide to invest in sh...   \n",
      "1      3     4  what is the story of kohinoor  koh i noor  dia...   \n",
      "2      5     6  how can i increase the speed of my internet co...   \n",
      "3      7     8  why am i mentally very lonely  how can i solve...   \n",
      "4      9    10  which one dissolve in water quikly sugar  salt...   \n",
      "\n",
      "                                            question2  is_duplicate  \\\n",
      "id                                                                    \n",
      "0   what is the step by step guide to invest in sh...             0   \n",
      "1   what would happen if the indian government sto...             0   \n",
      "2   how can internet speed be increased by hacking...             0   \n",
      "3   find the remainder when  math 23  24   math  i...             0   \n",
      "4             which fish would survive in salt water              0   \n",
      "\n",
      "    word_common  word_total  word_share  \n",
      "id                                       \n",
      "0          10.0        23.0    0.434783  \n",
      "1           4.0        20.0    0.200000  \n",
      "2           4.0        24.0    0.166667  \n",
      "3           0.0        19.0    0.000000  \n",
      "4           2.0        20.0    0.100000  \n",
      "(149263, 8)\n",
      "(255024, 8)\n"
     ]
    }
   ],
   "source": [
    "print(data.shape)\n",
    "print(data.head())\n",
    "print(data[data[\"is_duplicate\"] == 1].shape)\n",
    "print(data[data[\"is_duplicate\"] == 0].shape)"
   ]
  },
  {
   "cell_type": "code",
   "execution_count": 149,
   "metadata": {},
   "outputs": [
    {
     "name": "stdout",
     "output_type": "stream",
     "text": [
      "          qid1    qid2                                          question1  \\\n",
      "id                                                                          \n",
      "8067     15738   15739                 how do i play pokémon go in korea    \n",
      "224279  332326  332327           will a breathing treatment help a cough    \n",
      "252452  336023  366789      is kellyanne conway annoying in your opinion    \n",
      "174039  268330  268331   how do you rate  1 10  and review maruti baleno    \n",
      "384863   28901  233483             what are some good books on marketing    \n",
      "182965    1120    7681  what can be the medium budget to visit best pl...   \n",
      "199717  301285  301286  a boy rufused me  how can i continue to keep t...   \n",
      "343232  471320  127014           how many hindu nations are in the world    \n",
      "91165   152829  152830  what are the economic advantages of cashless p...   \n",
      "110222  158902  125399       why cant i get a credit card with no credit    \n",
      "\n",
      "                                                question2  is_duplicate  \\\n",
      "id                                                                        \n",
      "8067                   how do i play pokémon go in china              0   \n",
      "224279  how can i help someone that is unconscious but...             0   \n",
      "252452  did kellyanne conway really imply that we shou...             0   \n",
      "174039  what career options does one have after comple...             0   \n",
      "384863  what are some of the best books ever written a...             1   \n",
      "182965  what are the best places to visit on a 3 day t...             1   \n",
      "199717          what is difference between rcs and volte              0   \n",
      "343232  what are first world  second world and third w...             0   \n",
      "91165   is it possible to have a totally cashless paym...             0   \n",
      "110222      what is the fastest way to get a credit card              0   \n",
      "\n",
      "        word_common  word_total  word_share  \n",
      "id                                           \n",
      "8067            7.0        16.0    0.437500  \n",
      "224279          1.0        17.0    0.058824  \n",
      "252452          2.0        27.0    0.074074  \n",
      "174039          0.0        27.0    0.000000  \n",
      "384863          5.0        18.0    0.277778  \n",
      "182965          7.0        33.0    0.212121  \n",
      "199717          0.0        20.0    0.000000  \n",
      "343232          1.0        17.0    0.058824  \n",
      "91165           1.0        28.0    0.035714  \n",
      "110222          3.0        20.0    0.150000  \n"
     ]
    }
   ],
   "source": [
    "print(data.sample(10, random_state=42))"
   ]
  },
  {
   "cell_type": "code",
   "execution_count": 150,
   "metadata": {},
   "outputs": [
    {
     "name": "stdout",
     "output_type": "stream",
     "text": [
      "<class 'pandas.core.frame.DataFrame'>\n",
      "Int64Index: 404287 entries, 0 to 404289\n",
      "Data columns (total 8 columns):\n",
      " #   Column        Non-Null Count   Dtype  \n",
      "---  ------        --------------   -----  \n",
      " 0   qid1          404287 non-null  int64  \n",
      " 1   qid2          404287 non-null  int64  \n",
      " 2   question1     404273 non-null  object \n",
      " 3   question2     404283 non-null  object \n",
      " 4   is_duplicate  404287 non-null  int64  \n",
      " 5   word_common   404287 non-null  float64\n",
      " 6   word_total    404287 non-null  float64\n",
      " 7   word_share    404287 non-null  float64\n",
      "dtypes: float64(3), int64(3), object(2)\n",
      "memory usage: 27.8+ MB\n"
     ]
    }
   ],
   "source": [
    "data.info()"
   ]
  },
  {
   "cell_type": "code",
   "execution_count": 151,
   "metadata": {},
   "outputs": [
    {
     "data": {
      "text/html": [
       "<div>\n",
       "<style scoped>\n",
       "    .dataframe tbody tr th:only-of-type {\n",
       "        vertical-align: middle;\n",
       "    }\n",
       "\n",
       "    .dataframe tbody tr th {\n",
       "        vertical-align: top;\n",
       "    }\n",
       "\n",
       "    .dataframe thead th {\n",
       "        text-align: right;\n",
       "    }\n",
       "</style>\n",
       "<table border=\"1\" class=\"dataframe\">\n",
       "  <thead>\n",
       "    <tr style=\"text-align: right;\">\n",
       "      <th></th>\n",
       "      <th>qid1</th>\n",
       "      <th>qid2</th>\n",
       "      <th>question1</th>\n",
       "      <th>question2</th>\n",
       "      <th>is_duplicate</th>\n",
       "      <th>word_common</th>\n",
       "      <th>word_total</th>\n",
       "      <th>word_share</th>\n",
       "    </tr>\n",
       "    <tr>\n",
       "      <th>id</th>\n",
       "      <th></th>\n",
       "      <th></th>\n",
       "      <th></th>\n",
       "      <th></th>\n",
       "      <th></th>\n",
       "      <th></th>\n",
       "      <th></th>\n",
       "      <th></th>\n",
       "    </tr>\n",
       "  </thead>\n",
       "  <tbody>\n",
       "    <tr>\n",
       "      <th>3306</th>\n",
       "      <td>6553</td>\n",
       "      <td>6554</td>\n",
       "      <td>NaN</td>\n",
       "      <td>why is cornell own endowment the lowest in the...</td>\n",
       "      <td>0</td>\n",
       "      <td>0.0</td>\n",
       "      <td>10.0</td>\n",
       "      <td>0.0</td>\n",
       "    </tr>\n",
       "    <tr>\n",
       "      <th>13016</th>\n",
       "      <td>25026</td>\n",
       "      <td>25027</td>\n",
       "      <td>NaN</td>\n",
       "      <td>why should one not work at google</td>\n",
       "      <td>0</td>\n",
       "      <td>0.0</td>\n",
       "      <td>8.0</td>\n",
       "      <td>0.0</td>\n",
       "    </tr>\n",
       "    <tr>\n",
       "      <th>20072</th>\n",
       "      <td>37898</td>\n",
       "      <td>37899</td>\n",
       "      <td>how could i solve this</td>\n",
       "      <td>NaN</td>\n",
       "      <td>0</td>\n",
       "      <td>0.0</td>\n",
       "      <td>6.0</td>\n",
       "      <td>0.0</td>\n",
       "    </tr>\n",
       "    <tr>\n",
       "      <th>20794</th>\n",
       "      <td>39204</td>\n",
       "      <td>39205</td>\n",
       "      <td>NaN</td>\n",
       "      <td>what is the gmail tech support help phone number</td>\n",
       "      <td>0</td>\n",
       "      <td>0.0</td>\n",
       "      <td>10.0</td>\n",
       "      <td>0.0</td>\n",
       "    </tr>\n",
       "    <tr>\n",
       "      <th>47056</th>\n",
       "      <td>84067</td>\n",
       "      <td>84068</td>\n",
       "      <td>is there anywhere in the world offering pain m...</td>\n",
       "      <td>NaN</td>\n",
       "      <td>0</td>\n",
       "      <td>0.0</td>\n",
       "      <td>19.0</td>\n",
       "      <td>0.0</td>\n",
       "    </tr>\n",
       "    <tr>\n",
       "      <th>96725</th>\n",
       "      <td>161071</td>\n",
       "      <td>161072</td>\n",
       "      <td>NaN</td>\n",
       "      <td>who are moses  noah and exodus</td>\n",
       "      <td>0</td>\n",
       "      <td>0.0</td>\n",
       "      <td>7.0</td>\n",
       "      <td>0.0</td>\n",
       "    </tr>\n",
       "    <tr>\n",
       "      <th>104101</th>\n",
       "      <td>171925</td>\n",
       "      <td>171926</td>\n",
       "      <td>NaN</td>\n",
       "      <td>problem of solving a problem is not a problem ...</td>\n",
       "      <td>0</td>\n",
       "      <td>0.0</td>\n",
       "      <td>18.0</td>\n",
       "      <td>0.0</td>\n",
       "    </tr>\n",
       "    <tr>\n",
       "      <th>134403</th>\n",
       "      <td>214814</td>\n",
       "      <td>214815</td>\n",
       "      <td>NaN</td>\n",
       "      <td>what is your take on the undercover report tha...</td>\n",
       "      <td>0</td>\n",
       "      <td>0.0</td>\n",
       "      <td>24.0</td>\n",
       "      <td>0.0</td>\n",
       "    </tr>\n",
       "    <tr>\n",
       "      <th>189659</th>\n",
       "      <td>161071</td>\n",
       "      <td>288480</td>\n",
       "      <td>NaN</td>\n",
       "      <td>who is noah</td>\n",
       "      <td>0</td>\n",
       "      <td>0.0</td>\n",
       "      <td>4.0</td>\n",
       "      <td>0.0</td>\n",
       "    </tr>\n",
       "    <tr>\n",
       "      <th>190570</th>\n",
       "      <td>289688</td>\n",
       "      <td>289689</td>\n",
       "      <td>NaN</td>\n",
       "      <td>time is money can some one explain  how it works</td>\n",
       "      <td>0</td>\n",
       "      <td>0.0</td>\n",
       "      <td>10.0</td>\n",
       "      <td>0.0</td>\n",
       "    </tr>\n",
       "    <tr>\n",
       "      <th>208485</th>\n",
       "      <td>312495</td>\n",
       "      <td>312496</td>\n",
       "      <td>NaN</td>\n",
       "      <td>given that pacer makes money from usage  why d...</td>\n",
       "      <td>0</td>\n",
       "      <td>0.0</td>\n",
       "      <td>17.0</td>\n",
       "      <td>0.0</td>\n",
       "    </tr>\n",
       "    <tr>\n",
       "      <th>213220</th>\n",
       "      <td>25026</td>\n",
       "      <td>64784</td>\n",
       "      <td>NaN</td>\n",
       "      <td>what is it like to work at google</td>\n",
       "      <td>0</td>\n",
       "      <td>0.0</td>\n",
       "      <td>9.0</td>\n",
       "      <td>0.0</td>\n",
       "    </tr>\n",
       "    <tr>\n",
       "      <th>226925</th>\n",
       "      <td>335645</td>\n",
       "      <td>335646</td>\n",
       "      <td>which in the best bike desert storm or himalay...</td>\n",
       "      <td>NaN</td>\n",
       "      <td>0</td>\n",
       "      <td>0.0</td>\n",
       "      <td>17.0</td>\n",
       "      <td>0.0</td>\n",
       "    </tr>\n",
       "    <tr>\n",
       "      <th>254161</th>\n",
       "      <td>214814</td>\n",
       "      <td>368834</td>\n",
       "      <td>NaN</td>\n",
       "      <td>how do i convince my non indian friends that n...</td>\n",
       "      <td>0</td>\n",
       "      <td>0.0</td>\n",
       "      <td>25.0</td>\n",
       "      <td>0.0</td>\n",
       "    </tr>\n",
       "    <tr>\n",
       "      <th>273065</th>\n",
       "      <td>391451</td>\n",
       "      <td>380455</td>\n",
       "      <td>NaN</td>\n",
       "      <td>how can i describe quora  in all its glory  to...</td>\n",
       "      <td>0</td>\n",
       "      <td>0.0</td>\n",
       "      <td>12.0</td>\n",
       "      <td>0.0</td>\n",
       "    </tr>\n",
       "    <tr>\n",
       "      <th>301583</th>\n",
       "      <td>424494</td>\n",
       "      <td>424495</td>\n",
       "      <td>NaN</td>\n",
       "      <td>what do i do with this guy</td>\n",
       "      <td>0</td>\n",
       "      <td>0.0</td>\n",
       "      <td>7.0</td>\n",
       "      <td>0.0</td>\n",
       "    </tr>\n",
       "    <tr>\n",
       "      <th>384293</th>\n",
       "      <td>516316</td>\n",
       "      <td>37899</td>\n",
       "      <td>how do i solve this</td>\n",
       "      <td>NaN</td>\n",
       "      <td>0</td>\n",
       "      <td>0.0</td>\n",
       "      <td>6.0</td>\n",
       "      <td>0.0</td>\n",
       "    </tr>\n",
       "    <tr>\n",
       "      <th>402423</th>\n",
       "      <td>535899</td>\n",
       "      <td>119568</td>\n",
       "      <td>NaN</td>\n",
       "      <td>what is cisco router technical support phone n...</td>\n",
       "      <td>0</td>\n",
       "      <td>0.0</td>\n",
       "      <td>9.0</td>\n",
       "      <td>0.0</td>\n",
       "    </tr>\n",
       "  </tbody>\n",
       "</table>\n",
       "</div>"
      ],
      "text/plain": [
       "          qid1    qid2                                          question1  \\\n",
       "id                                                                          \n",
       "3306      6553    6554                                                NaN   \n",
       "13016    25026   25027                                                NaN   \n",
       "20072    37898   37899                            how could i solve this    \n",
       "20794    39204   39205                                                NaN   \n",
       "47056    84067   84068  is there anywhere in the world offering pain m...   \n",
       "96725   161071  161072                                                NaN   \n",
       "104101  171925  171926                                                NaN   \n",
       "134403  214814  214815                                                NaN   \n",
       "189659  161071  288480                                                NaN   \n",
       "190570  289688  289689                                                NaN   \n",
       "208485  312495  312496                                                NaN   \n",
       "213220   25026   64784                                                NaN   \n",
       "226925  335645  335646  which in the best bike desert storm or himalay...   \n",
       "254161  214814  368834                                                NaN   \n",
       "273065  391451  380455                                                NaN   \n",
       "301583  424494  424495                                                NaN   \n",
       "384293  516316   37899                               how do i solve this    \n",
       "402423  535899  119568                                                NaN   \n",
       "\n",
       "                                                question2  is_duplicate  \\\n",
       "id                                                                        \n",
       "3306    why is cornell own endowment the lowest in the...             0   \n",
       "13016                  why should one not work at google              0   \n",
       "20072                                                 NaN             0   \n",
       "20794   what is the gmail tech support help phone number              0   \n",
       "47056                                                 NaN             0   \n",
       "96725                     who are moses  noah and exodus              0   \n",
       "104101  problem of solving a problem is not a problem ...             0   \n",
       "134403  what is your take on the undercover report tha...             0   \n",
       "189659                                       who is noah              0   \n",
       "190570  time is money can some one explain  how it works              0   \n",
       "208485  given that pacer makes money from usage  why d...             0   \n",
       "213220                 what is it like to work at google              0   \n",
       "226925                                                NaN             0   \n",
       "254161  how do i convince my non indian friends that n...             0   \n",
       "273065  how can i describe quora  in all its glory  to...             0   \n",
       "301583                        what do i do with this guy              0   \n",
       "384293                                                NaN             0   \n",
       "402423  what is cisco router technical support phone n...             0   \n",
       "\n",
       "        word_common  word_total  word_share  \n",
       "id                                           \n",
       "3306            0.0        10.0         0.0  \n",
       "13016           0.0         8.0         0.0  \n",
       "20072           0.0         6.0         0.0  \n",
       "20794           0.0        10.0         0.0  \n",
       "47056           0.0        19.0         0.0  \n",
       "96725           0.0         7.0         0.0  \n",
       "104101          0.0        18.0         0.0  \n",
       "134403          0.0        24.0         0.0  \n",
       "189659          0.0         4.0         0.0  \n",
       "190570          0.0        10.0         0.0  \n",
       "208485          0.0        17.0         0.0  \n",
       "213220          0.0         9.0         0.0  \n",
       "226925          0.0        17.0         0.0  \n",
       "254161          0.0        25.0         0.0  \n",
       "273065          0.0        12.0         0.0  \n",
       "301583          0.0         7.0         0.0  \n",
       "384293          0.0         6.0         0.0  \n",
       "402423          0.0         9.0         0.0  "
      ]
     },
     "execution_count": 151,
     "metadata": {},
     "output_type": "execute_result"
    }
   ],
   "source": [
    "data[data.isnull().any(axis=1)]"
   ]
  },
  {
   "cell_type": "code",
   "execution_count": 152,
   "metadata": {},
   "outputs": [
    {
     "data": {
      "text/plain": [
       "(404269, 8)"
      ]
     },
     "execution_count": 152,
     "metadata": {},
     "output_type": "execute_result"
    }
   ],
   "source": [
    "data = data.dropna(how=\"any\").reset_index(drop=True)\n",
    "data.shape"
   ]
  },
  {
   "cell_type": "code",
   "execution_count": 153,
   "metadata": {},
   "outputs": [
    {
     "data": {
      "text/plain": [
       "0    255006\n",
       "1    149263\n",
       "Name: is_duplicate, dtype: int64"
      ]
     },
     "execution_count": 153,
     "metadata": {},
     "output_type": "execute_result"
    }
   ],
   "source": [
    "data['is_duplicate'].value_counts()"
   ]
  },
  {
   "cell_type": "code",
   "execution_count": 154,
   "metadata": {},
   "outputs": [
    {
     "data": {
      "text/plain": [
       "<Axes: >"
      ]
     },
     "execution_count": 154,
     "metadata": {},
     "output_type": "execute_result"
    },
    {
     "data": {
      "image/png": "[encoded data removed]",
      "text/plain": [
       "<Figure size 640x480 with 1 Axes>"
      ]
     },
     "metadata": {},
     "output_type": "display_data"
    }
   ],
   "source": [
    "ct = data['is_duplicate'].value_counts()\n",
    "sns.barplot(x=ct.index,y=ct.values)"
   ]
  },
  {
   "cell_type": "code",
   "execution_count": 155,
   "metadata": {},
   "outputs": [
    {
     "name": "stdout",
     "output_type": "stream",
     "text": [
      "                                                question1  \\\n",
      "360865  is it bad to sleep on your left side all the t...   \n",
      "71770   why does not the quora app introduce an option...   \n",
      "134765                          how do i clone a website    \n",
      "302549        can people actively control their emotions    \n",
      "100578  what were some of mother teresa own contributi...   \n",
      "\n",
      "                                                question2  \n",
      "360865          is it harmful to sleep on your left side   \n",
      "71770   why does not the quora mobile app have an offl...  \n",
      "134765                        how do you clone a website   \n",
      "302549    how can i control my bad feelings and emotions   \n",
      "100578  what is mother teresa own greatest accomplishm...  \n",
      "(1000, 2)\n",
      "360865    0\n",
      "71770     1\n",
      "134765    1\n",
      "302549    1\n",
      "100578    1\n",
      "Name: is_duplicate, dtype: int64\n",
      "(1000,)\n",
      "(121281, 2)\n"
     ]
    }
   ],
   "source": [
    "import pandas as pd\n",
    "from sklearn.model_selection import train_test_split\n",
    "\n",
    "X = data[['question1', 'question2']]\n",
    "y = data['is_duplicate']\n",
    "\n",
    "X_train, X_test, y_train, y_test = train_test_split(X, y, test_size=0.3, random_state=42)\n",
    "\n",
    "X_train = X_train[:1000]\n",
    "y_train = y_train[:1000]\n",
    "# print(data.head())\n",
    "print(X_train.head())\n",
    "print(X_train.shape)\n",
    "print(y_train.head())\n",
    "print(y_train.shape)\n",
    "print(X_test.shape)"
   ]
  },
  {
   "cell_type": "code",
   "execution_count": 156,
   "metadata": {},
   "outputs": [
    {
     "name": "stdout",
     "output_type": "stream",
     "text": [
      "    index                                                  0\n",
      "0  360865  is it bad to sleep on your left side all the t...\n",
      "1   71770  why does not the quora app introduce an option...\n",
      "2  134765                          how do i clone a website \n",
      "3  302549        can people actively control their emotions \n",
      "4  100578  what were some of mother teresa own contributi...\n"
     ]
    },
    {
     "name": "stderr",
     "output_type": "stream",
     "text": [
      "/var/folders/11/4w81_8697d9g_9c3944_ytwh0000gn/T/ipykernel_83485/3115984954.py:1: FutureWarning: The series.append method is deprecated and will be removed from pandas in a future version. Use pandas.concat instead.\n",
      "  com_data_train = X_train['question1'].append(X_train['question2']).reset_index()\n"
     ]
    }
   ],
   "source": [
    "com_data_train = X_train['question1'].append(X_train['question2']).reset_index()\n",
    "print(com_data_train.head())\n"
   ]
  },
  {
   "cell_type": "code",
   "execution_count": 157,
   "metadata": {},
   "outputs": [
    {
     "name": "stdout",
     "output_type": "stream",
     "text": [
      "                                            question\n",
      "0  is it bad to sleep on your left side all the t...\n",
      "1  why does not the quora app introduce an option...\n",
      "2                          how do i clone a website \n",
      "3        can people actively control their emotions \n",
      "4  what were some of mother teresa own contributi...\n"
     ]
    }
   ],
   "source": [
    "com_data_train.drop(['index'],axis=1,inplace=True)\n",
    "com_data_train.columns = ['question']\n",
    "print(com_data_train.head())"
   ]
  },
  {
   "cell_type": "code",
   "execution_count": 158,
   "metadata": {},
   "outputs": [
    {
     "name": "stdout",
     "output_type": "stream",
     "text": [
      "(2000, 1)\n"
     ]
    }
   ],
   "source": [
    "print(com_data_train.shape)"
   ]
  },
  {
   "attachments": {},
   "cell_type": "markdown",
   "metadata": {},
   "source": [
    "## Making a dictionary mapping a question to its duplicate question"
   ]
  },
  {
   "cell_type": "code",
   "execution_count": 159,
   "metadata": {},
   "outputs": [],
   "source": [
    "from nltk.corpus import stopwords\n",
    "stop_words = set(stopwords.words('english'))\n",
    "from datasketch import MinHash, MinHashLSH\n",
    "from tqdm import tqdm"
   ]
  },
  {
   "cell_type": "code",
   "execution_count": 160,
   "metadata": {},
   "outputs": [],
   "source": [
    "# Create a dictory of all dupllcated questions.\n",
    "correct = X_train[y_train==1]\n",
    "correct_dict = {}\n",
    "for x,y in zip(correct['question1'],correct['question2']):\n",
    "    if correct_dict.get(x)==None:\n",
    "        correct_dict[x] = [y]\n",
    "    else:\n",
    "        correct_dict[x].append(y)\n",
    "        correct_dict[x] = [i for i in set(correct_dict[x])]\n",
    "for x,y in zip(correct['question2'],correct['question1']):\n",
    "    if correct_dict.get(x)==None:\n",
    "        correct_dict[x] = [y]\n",
    "    else:\n",
    "        correct_dict[x].append(y)\n",
    "        correct_dict[x] = [i for i in set(correct_dict[x])]"
   ]
  },
  {
   "attachments": {},
   "cell_type": "markdown",
   "metadata": {},
   "source": [
    "## Set Representation"
   ]
  },
  {
   "cell_type": "code",
   "execution_count": 161,
   "metadata": {},
   "outputs": [
    {
     "name": "stderr",
     "output_type": "stream",
     "text": [
      "100%|██████████| 2000/2000 [00:00<00:00, 263205.05it/s]\n"
     ]
    }
   ],
   "source": [
    "set_dict={} # maps question to set representation of question\n",
    "norm_dict={} # maps question id (eg 'm1') to actual question. We may use this dictionary to evaluate results of LSH output.\n",
    "count=1\n",
    "\n",
    "for question in tqdm([x for x in com_data_train['question'] if type(x)==str]):\n",
    "    temp_list = []\n",
    "    for shingle in question.split(' '): # shingle is a word\n",
    "        if shingle not in stop_words:\n",
    "            temp_list.append(shingle.lower())\n",
    "    set_dict[\"m{}\".format(count)] = set(temp_list)\n",
    "    norm_dict[\"m{}\".format(count)] = question\n",
    "    count +=1"
   ]
  },
  {
   "cell_type": "code",
   "execution_count": 162,
   "metadata": {},
   "outputs": [
    {
     "data": {
      "text/plain": [
       "{'', 'bad', 'left', 'side', 'sleep', 'time'}"
      ]
     },
     "execution_count": 162,
     "metadata": {},
     "output_type": "execute_result"
    }
   ],
   "source": [
    "set_dict['m1']"
   ]
  },
  {
   "cell_type": "code",
   "execution_count": 163,
   "metadata": {},
   "outputs": [
    {
     "data": {
      "text/plain": [
       "'is it bad to sleep on your left side all the time '"
      ]
     },
     "execution_count": 163,
     "metadata": {},
     "output_type": "execute_result"
    }
   ],
   "source": [
    "norm_dict['m1']"
   ]
  },
  {
   "cell_type": "code",
   "execution_count": 164,
   "metadata": {},
   "outputs": [],
   "source": [
    "# set_dict.values()"
   ]
  },
  {
   "attachments": {},
   "cell_type": "markdown",
   "metadata": {},
   "source": [
    "## Create minHash signatures"
   ]
  },
  {
   "cell_type": "code",
   "execution_count": 165,
   "metadata": {},
   "outputs": [
    {
     "name": "stderr",
     "output_type": "stream",
     "text": [
      "100%|██████████| 2000/2000 [00:00<00:00, 4816.89it/s]"
     ]
    },
    {
     "name": "stdout",
     "output_type": "stream",
     "text": [
      "[ 83723099  39478371 705304245  69861131  27338559 837534467 460834131\n",
      "  10909748 860422184  85655049]\n"
     ]
    },
    {
     "name": "stderr",
     "output_type": "stream",
     "text": [
      "\n"
     ]
    }
   ],
   "source": [
    "num_perm = 10\n",
    "min_dict = {} # maps question to \"min hash signatures\"\n",
    "count2 = 1\n",
    "for val in tqdm (set_dict.values()): \n",
    "    m = MinHash(num_perm=num_perm)\n",
    "    for shingle in val:\n",
    "        m.update(shingle.encode('utf8'))\n",
    "    min_dict[\"m{}\".format(count2)] = m\n",
    "    count2+=1\n",
    "print(min_dict['m1'].hashvalues)"
   ]
  },
  {
   "cell_type": "code",
   "execution_count": 166,
   "metadata": {},
   "outputs": [],
   "source": [
    "# # toy example\n",
    "\n",
    "# set1 = set(['minhash', 'is', 'a', 'probabilistic', 'data', 'structure', 'for',\n",
    "#             'estimating', 'the', 'similarity', 'between', 'datasets'])\n",
    "# set2 = set(['minhash', 'is', 'a', 'probability', 'data', 'structure', 'for',\n",
    "#             'estimating', 'the', 'similarity', 'between', 'documents'])\n",
    "# set3 = set(['minhash', 'is', 'probability', 'data', 'structure', 'for',\n",
    "#             'estimating', 'the', 'similarity', 'between', 'documents'])\n",
    "\n",
    "# m1 = MinHash(num_perm=10)\n",
    "# m2 = MinHash(num_perm=10)\n",
    "# m3 = MinHash(num_perm=10)\n",
    "# for d in set1:\n",
    "#     m1.update(d.encode('utf8'))\n",
    "# print(m1.hashvalues)\n",
    "# for d in set2:\n",
    "#     m2.update(d.encode('utf8'))\n",
    "# for d in set3:\n",
    "#     m3.update(d.encode('utf8'))\n"
   ]
  },
  {
   "attachments": {},
   "cell_type": "markdown",
   "metadata": {},
   "source": [
    "## Create LSH index"
   ]
  },
  {
   "cell_type": "code",
   "execution_count": 167,
   "metadata": {},
   "outputs": [
    {
     "name": "stderr",
     "output_type": "stream",
     "text": [
      "100%|██████████| 2000/2000 [00:00<00:00, 144603.75it/s]\n"
     ]
    }
   ],
   "source": [
    "lsh = MinHashLSH(threshold=0.6, num_perm=num_perm)\n",
    "for key in tqdm(min_dict.keys()):\n",
    "    lsh.insert(key,min_dict[key])"
   ]
  },
  {
   "cell_type": "code",
   "execution_count": 168,
   "metadata": {},
   "outputs": [],
   "source": [
    "def create_cand_pairs():\n",
    "    big_list = []\n",
    "    for query in min_dict.keys():\n",
    "        bucket = lsh.query(min_dict[query])\n",
    "        if len(bucket)==1:\n",
    "            big_list.append([bucket[0],\"None\"])\n",
    "        if len(bucket)>1:\n",
    "            first_val = bucket[0]\n",
    "            for val in bucket[1:]:\n",
    "                second_val = val\n",
    "                big_list.append([first_val,second_val])\n",
    "    return big_list"
   ]
  },
  {
   "cell_type": "code",
   "execution_count": 169,
   "metadata": {},
   "outputs": [
    {
     "name": "stdout",
     "output_type": "stream",
     "text": [
      "[['m1', 'None'], ['m2', 'None'], ['m3', 'm1003'], ['m4', 'None'], ['m5', 'None'], ['m6', 'None'], ['m7', 'None'], ['m8', 'm1008'], ['m9', 'None'], ['m10', 'None']]\n"
     ]
    }
   ],
   "source": [
    "cand_pairs = create_cand_pairs()\n",
    "print(cand_pairs[:10])"
   ]
  },
  {
   "cell_type": "code",
   "execution_count": 170,
   "metadata": {},
   "outputs": [],
   "source": [
    "def evaluation(cand_pairs):\n",
    "    tp = 0 # true positive\n",
    "    fp = 0 # false positive\n",
    "    fn = 0 # false negatives\n",
    "    for pair in cand_pairs:\n",
    "        if pair[1] == \"None\":\n",
    "            if str(norm_dict[pair[0]]) in correct_dict.keys():\n",
    "                    fn +=1\n",
    "        else:\n",
    "            if isinstance(correct_dict.get(norm_dict[pair[0]]), (list,)):\n",
    "                if norm_dict[pair[1]] in correct_dict.get(norm_dict[pair[0]]):\n",
    "                    tp +=1\n",
    "                else:\n",
    "                    fp +=1\n",
    "                    \n",
    "    precision = tp/(fp+tp)\n",
    "    recall = tp/(fn+tp)\n",
    "    print ('precision is {:.2f}'.format(precision))\n",
    "    print ('recall is {:.2f}'.format(recall))"
   ]
  },
  {
   "cell_type": "code",
   "execution_count": 171,
   "metadata": {},
   "outputs": [
    {
     "name": "stdout",
     "output_type": "stream",
     "text": [
      "precision is 0.32\n",
      "recall is 0.52\n"
     ]
    }
   ],
   "source": [
    "evaluation(cand_pairs)"
   ]
  }
 ],
 "metadata": {
  "kernelspec": {
   "display_name": "base",
   "language": "python",
   "name": "python3"
  },
  "language_info": {
   "codemirror_mode": {
    "name": "ipython",
    "version": 3
   },
   "file_extension": ".py",
   "mimetype": "text/x-python",
   "name": "python",
   "nbconvert_exporter": "python",
   "pygments_lexer": "ipython3",
   "version": "3.10.9"
  },
  "orig_nbformat": 4
 },
 "nbformat": 4,
 "nbformat_minor": 2
}
