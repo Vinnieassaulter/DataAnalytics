{
 "cells": [
  {
   "attachments": {},
   "cell_type": "markdown",
   "metadata": {},
   "source": [
    "# Import library"
   ]
  },
  {
   "cell_type": "code",
   "execution_count": 481,
   "metadata": {},
   "outputs": [],
   "source": [
    "import os \n",
    "import numpy as np\n",
    "import pandas as pd\n",
    "import seaborn as sns\n",
    "import matplotlib.pyplot as plt\n",
    "from nltk.corpus import stopwords\n",
    "import datasketch   \n",
    "from tqdm import tqdm\n",
    "\n",
    "import nltk"
   ]
  },
  {
   "cell_type": "code",
   "execution_count": 482,
   "metadata": {},
   "outputs": [],
   "source": [
    "fig_folder = \"png\"\n",
    "if not os.path.exists(fig_folder):\n",
    "    os.makedirs(fig_folder)"
   ]
  },
  {
   "attachments": {},
   "cell_type": "markdown",
   "metadata": {},
   "source": [
    "# Import Dataset(The dataset after preprocessing)"
   ]
  },
  {
   "cell_type": "code",
   "execution_count": 483,
   "metadata": {},
   "outputs": [
    {
     "name": "stdout",
     "output_type": "stream",
     "text": [
      "/Users/yusuke_sugihara/DA_Project1/DataAnalytics/Quora-question-pair-similarity\n",
      "/Users/yusuke_sugihara/DA_Project1/DataAnalytics/data\n"
     ]
    }
   ],
   "source": [
    "print(os.getcwd())\n",
    "path = os.path.abspath(os.path.join(os.getcwd(), \"../data\"))\n",
    "print(path)\n",
    "data = pd.read_csv(path + '/data_after_text_preprocessing.csv',index_col='id')"
   ]
  },
  {
   "cell_type": "code",
   "execution_count": 484,
   "metadata": {},
   "outputs": [
    {
     "data": {
      "text/plain": [
       "(404287, 8)"
      ]
     },
     "execution_count": 484,
     "metadata": {},
     "output_type": "execute_result"
    }
   ],
   "source": [
    "data.shape"
   ]
  },
  {
   "cell_type": "code",
   "execution_count": 485,
   "metadata": {},
   "outputs": [
    {
     "data": {
      "text/plain": [
       "qid1             0\n",
       "qid2             0\n",
       "question1       14\n",
       "question2        4\n",
       "is_duplicate     0\n",
       "word_common      0\n",
       "word_total       0\n",
       "word_share       0\n",
       "dtype: int64"
      ]
     },
     "execution_count": 485,
     "metadata": {},
     "output_type": "execute_result"
    }
   ],
   "source": [
    "data.isnull().sum()"
   ]
  },
  {
   "cell_type": "code",
   "execution_count": 486,
   "metadata": {},
   "outputs": [
    {
     "data": {
      "text/html": [
       "<div>\n",
       "<style scoped>\n",
       "    .dataframe tbody tr th:only-of-type {\n",
       "        vertical-align: middle;\n",
       "    }\n",
       "\n",
       "    .dataframe tbody tr th {\n",
       "        vertical-align: top;\n",
       "    }\n",
       "\n",
       "    .dataframe thead th {\n",
       "        text-align: right;\n",
       "    }\n",
       "</style>\n",
       "<table border=\"1\" class=\"dataframe\">\n",
       "  <thead>\n",
       "    <tr style=\"text-align: right;\">\n",
       "      <th></th>\n",
       "      <th>qid1</th>\n",
       "      <th>qid2</th>\n",
       "      <th>question1</th>\n",
       "      <th>question2</th>\n",
       "      <th>is_duplicate</th>\n",
       "      <th>word_common</th>\n",
       "      <th>word_total</th>\n",
       "      <th>word_share</th>\n",
       "    </tr>\n",
       "    <tr>\n",
       "      <th>id</th>\n",
       "      <th></th>\n",
       "      <th></th>\n",
       "      <th></th>\n",
       "      <th></th>\n",
       "      <th></th>\n",
       "      <th></th>\n",
       "      <th></th>\n",
       "      <th></th>\n",
       "    </tr>\n",
       "  </thead>\n",
       "  <tbody>\n",
       "    <tr>\n",
       "      <th>3306</th>\n",
       "      <td>6553</td>\n",
       "      <td>6554</td>\n",
       "      <td>NaN</td>\n",
       "      <td>why is cornell own endowment the lowest in the...</td>\n",
       "      <td>0</td>\n",
       "      <td>0.0</td>\n",
       "      <td>10.0</td>\n",
       "      <td>0.0</td>\n",
       "    </tr>\n",
       "    <tr>\n",
       "      <th>13016</th>\n",
       "      <td>25026</td>\n",
       "      <td>25027</td>\n",
       "      <td>NaN</td>\n",
       "      <td>why should one not work at google</td>\n",
       "      <td>0</td>\n",
       "      <td>0.0</td>\n",
       "      <td>8.0</td>\n",
       "      <td>0.0</td>\n",
       "    </tr>\n",
       "    <tr>\n",
       "      <th>20072</th>\n",
       "      <td>37898</td>\n",
       "      <td>37899</td>\n",
       "      <td>how could i solve this</td>\n",
       "      <td>NaN</td>\n",
       "      <td>0</td>\n",
       "      <td>0.0</td>\n",
       "      <td>6.0</td>\n",
       "      <td>0.0</td>\n",
       "    </tr>\n",
       "    <tr>\n",
       "      <th>20794</th>\n",
       "      <td>39204</td>\n",
       "      <td>39205</td>\n",
       "      <td>NaN</td>\n",
       "      <td>what is the gmail tech support help phone number</td>\n",
       "      <td>0</td>\n",
       "      <td>0.0</td>\n",
       "      <td>10.0</td>\n",
       "      <td>0.0</td>\n",
       "    </tr>\n",
       "    <tr>\n",
       "      <th>47056</th>\n",
       "      <td>84067</td>\n",
       "      <td>84068</td>\n",
       "      <td>is there anywhere in the world offering pain m...</td>\n",
       "      <td>NaN</td>\n",
       "      <td>0</td>\n",
       "      <td>0.0</td>\n",
       "      <td>19.0</td>\n",
       "      <td>0.0</td>\n",
       "    </tr>\n",
       "    <tr>\n",
       "      <th>96725</th>\n",
       "      <td>161071</td>\n",
       "      <td>161072</td>\n",
       "      <td>NaN</td>\n",
       "      <td>who are moses  noah and exodus</td>\n",
       "      <td>0</td>\n",
       "      <td>0.0</td>\n",
       "      <td>7.0</td>\n",
       "      <td>0.0</td>\n",
       "    </tr>\n",
       "    <tr>\n",
       "      <th>104101</th>\n",
       "      <td>171925</td>\n",
       "      <td>171926</td>\n",
       "      <td>NaN</td>\n",
       "      <td>problem of solving a problem is not a problem ...</td>\n",
       "      <td>0</td>\n",
       "      <td>0.0</td>\n",
       "      <td>18.0</td>\n",
       "      <td>0.0</td>\n",
       "    </tr>\n",
       "    <tr>\n",
       "      <th>134403</th>\n",
       "      <td>214814</td>\n",
       "      <td>214815</td>\n",
       "      <td>NaN</td>\n",
       "      <td>what is your take on the undercover report tha...</td>\n",
       "      <td>0</td>\n",
       "      <td>0.0</td>\n",
       "      <td>24.0</td>\n",
       "      <td>0.0</td>\n",
       "    </tr>\n",
       "    <tr>\n",
       "      <th>189659</th>\n",
       "      <td>161071</td>\n",
       "      <td>288480</td>\n",
       "      <td>NaN</td>\n",
       "      <td>who is noah</td>\n",
       "      <td>0</td>\n",
       "      <td>0.0</td>\n",
       "      <td>4.0</td>\n",
       "      <td>0.0</td>\n",
       "    </tr>\n",
       "    <tr>\n",
       "      <th>190570</th>\n",
       "      <td>289688</td>\n",
       "      <td>289689</td>\n",
       "      <td>NaN</td>\n",
       "      <td>time is money can some one explain  how it works</td>\n",
       "      <td>0</td>\n",
       "      <td>0.0</td>\n",
       "      <td>10.0</td>\n",
       "      <td>0.0</td>\n",
       "    </tr>\n",
       "    <tr>\n",
       "      <th>208485</th>\n",
       "      <td>312495</td>\n",
       "      <td>312496</td>\n",
       "      <td>NaN</td>\n",
       "      <td>given that pacer makes money from usage  why d...</td>\n",
       "      <td>0</td>\n",
       "      <td>0.0</td>\n",
       "      <td>17.0</td>\n",
       "      <td>0.0</td>\n",
       "    </tr>\n",
       "    <tr>\n",
       "      <th>213220</th>\n",
       "      <td>25026</td>\n",
       "      <td>64784</td>\n",
       "      <td>NaN</td>\n",
       "      <td>what is it like to work at google</td>\n",
       "      <td>0</td>\n",
       "      <td>0.0</td>\n",
       "      <td>9.0</td>\n",
       "      <td>0.0</td>\n",
       "    </tr>\n",
       "    <tr>\n",
       "      <th>226925</th>\n",
       "      <td>335645</td>\n",
       "      <td>335646</td>\n",
       "      <td>which in the best bike desert storm or himalay...</td>\n",
       "      <td>NaN</td>\n",
       "      <td>0</td>\n",
       "      <td>0.0</td>\n",
       "      <td>17.0</td>\n",
       "      <td>0.0</td>\n",
       "    </tr>\n",
       "    <tr>\n",
       "      <th>254161</th>\n",
       "      <td>214814</td>\n",
       "      <td>368834</td>\n",
       "      <td>NaN</td>\n",
       "      <td>how do i convince my non indian friends that n...</td>\n",
       "      <td>0</td>\n",
       "      <td>0.0</td>\n",
       "      <td>25.0</td>\n",
       "      <td>0.0</td>\n",
       "    </tr>\n",
       "    <tr>\n",
       "      <th>273065</th>\n",
       "      <td>391451</td>\n",
       "      <td>380455</td>\n",
       "      <td>NaN</td>\n",
       "      <td>how can i describe quora  in all its glory  to...</td>\n",
       "      <td>0</td>\n",
       "      <td>0.0</td>\n",
       "      <td>12.0</td>\n",
       "      <td>0.0</td>\n",
       "    </tr>\n",
       "    <tr>\n",
       "      <th>301583</th>\n",
       "      <td>424494</td>\n",
       "      <td>424495</td>\n",
       "      <td>NaN</td>\n",
       "      <td>what do i do with this guy</td>\n",
       "      <td>0</td>\n",
       "      <td>0.0</td>\n",
       "      <td>7.0</td>\n",
       "      <td>0.0</td>\n",
       "    </tr>\n",
       "    <tr>\n",
       "      <th>384293</th>\n",
       "      <td>516316</td>\n",
       "      <td>37899</td>\n",
       "      <td>how do i solve this</td>\n",
       "      <td>NaN</td>\n",
       "      <td>0</td>\n",
       "      <td>0.0</td>\n",
       "      <td>6.0</td>\n",
       "      <td>0.0</td>\n",
       "    </tr>\n",
       "    <tr>\n",
       "      <th>402423</th>\n",
       "      <td>535899</td>\n",
       "      <td>119568</td>\n",
       "      <td>NaN</td>\n",
       "      <td>what is cisco router technical support phone n...</td>\n",
       "      <td>0</td>\n",
       "      <td>0.0</td>\n",
       "      <td>9.0</td>\n",
       "      <td>0.0</td>\n",
       "    </tr>\n",
       "  </tbody>\n",
       "</table>\n",
       "</div>"
      ],
      "text/plain": [
       "          qid1    qid2                                          question1  \\\n",
       "id                                                                          \n",
       "3306      6553    6554                                                NaN   \n",
       "13016    25026   25027                                                NaN   \n",
       "20072    37898   37899                            how could i solve this    \n",
       "20794    39204   39205                                                NaN   \n",
       "47056    84067   84068  is there anywhere in the world offering pain m...   \n",
       "96725   161071  161072                                                NaN   \n",
       "104101  171925  171926                                                NaN   \n",
       "134403  214814  214815                                                NaN   \n",
       "189659  161071  288480                                                NaN   \n",
       "190570  289688  289689                                                NaN   \n",
       "208485  312495  312496                                                NaN   \n",
       "213220   25026   64784                                                NaN   \n",
       "226925  335645  335646  which in the best bike desert storm or himalay...   \n",
       "254161  214814  368834                                                NaN   \n",
       "273065  391451  380455                                                NaN   \n",
       "301583  424494  424495                                                NaN   \n",
       "384293  516316   37899                               how do i solve this    \n",
       "402423  535899  119568                                                NaN   \n",
       "\n",
       "                                                question2  is_duplicate  \\\n",
       "id                                                                        \n",
       "3306    why is cornell own endowment the lowest in the...             0   \n",
       "13016                  why should one not work at google              0   \n",
       "20072                                                 NaN             0   \n",
       "20794   what is the gmail tech support help phone number              0   \n",
       "47056                                                 NaN             0   \n",
       "96725                     who are moses  noah and exodus              0   \n",
       "104101  problem of solving a problem is not a problem ...             0   \n",
       "134403  what is your take on the undercover report tha...             0   \n",
       "189659                                       who is noah              0   \n",
       "190570  time is money can some one explain  how it works              0   \n",
       "208485  given that pacer makes money from usage  why d...             0   \n",
       "213220                 what is it like to work at google              0   \n",
       "226925                                                NaN             0   \n",
       "254161  how do i convince my non indian friends that n...             0   \n",
       "273065  how can i describe quora  in all its glory  to...             0   \n",
       "301583                        what do i do with this guy              0   \n",
       "384293                                                NaN             0   \n",
       "402423  what is cisco router technical support phone n...             0   \n",
       "\n",
       "        word_common  word_total  word_share  \n",
       "id                                           \n",
       "3306            0.0        10.0         0.0  \n",
       "13016           0.0         8.0         0.0  \n",
       "20072           0.0         6.0         0.0  \n",
       "20794           0.0        10.0         0.0  \n",
       "47056           0.0        19.0         0.0  \n",
       "96725           0.0         7.0         0.0  \n",
       "104101          0.0        18.0         0.0  \n",
       "134403          0.0        24.0         0.0  \n",
       "189659          0.0         4.0         0.0  \n",
       "190570          0.0        10.0         0.0  \n",
       "208485          0.0        17.0         0.0  \n",
       "213220          0.0         9.0         0.0  \n",
       "226925          0.0        17.0         0.0  \n",
       "254161          0.0        25.0         0.0  \n",
       "273065          0.0        12.0         0.0  \n",
       "301583          0.0         7.0         0.0  \n",
       "384293          0.0         6.0         0.0  \n",
       "402423          0.0         9.0         0.0  "
      ]
     },
     "execution_count": 486,
     "metadata": {},
     "output_type": "execute_result"
    }
   ],
   "source": [
    "data[data.isnull().any(axis=1)]"
   ]
  },
  {
   "cell_type": "code",
   "execution_count": 487,
   "metadata": {},
   "outputs": [
    {
     "data": {
      "text/plain": [
       "(404269, 8)"
      ]
     },
     "execution_count": 487,
     "metadata": {},
     "output_type": "execute_result"
    }
   ],
   "source": [
    "data = data.dropna(how=\"any\").reset_index(drop=True)\n",
    "data.shape"
   ]
  },
  {
   "cell_type": "code",
   "execution_count": 488,
   "metadata": {},
   "outputs": [
    {
     "data": {
      "text/plain": [
       "0    255006\n",
       "1    149263\n",
       "Name: is_duplicate, dtype: int64"
      ]
     },
     "execution_count": 488,
     "metadata": {},
     "output_type": "execute_result"
    }
   ],
   "source": [
    "data['is_duplicate'].value_counts()"
   ]
  },
  {
   "cell_type": "code",
   "execution_count": 489,
   "metadata": {},
   "outputs": [
    {
     "name": "stdout",
     "output_type": "stream",
     "text": [
      "                                                question1  \\\n",
      "360865  is it bad to sleep on your left side all the t...   \n",
      "71770   why does not the quora app introduce an option...   \n",
      "134765                          how do i clone a website    \n",
      "302549        can people actively control their emotions    \n",
      "100578  what were some of mother teresa own contributi...   \n",
      "\n",
      "                                                question2  \n",
      "360865          is it harmful to sleep on your left side   \n",
      "71770   why does not the quora mobile app have an offl...  \n",
      "134765                        how do you clone a website   \n",
      "302549    how can i control my bad feelings and emotions   \n",
      "100578  what is mother teresa own greatest accomplishm...  \n",
      "360865    0\n",
      "71770     1\n",
      "134765    1\n",
      "302549    1\n",
      "100578    1\n",
      "Name: is_duplicate, dtype: int64\n",
      "(10000, 2)\n",
      "(10000,)\n",
      "(121281, 2)\n",
      "(121281,)\n"
     ]
    }
   ],
   "source": [
    "import pandas as pd\n",
    "from sklearn.model_selection import train_test_split\n",
    "\n",
    "X = data[['question1', 'question2']]\n",
    "y = data['is_duplicate']\n",
    "\n",
    "X_train, X_test, y_train, y_test = train_test_split(X, y, test_size=0.3, random_state=42)\n",
    "\n",
    "X_train = X_train[:10000]\n",
    "y_train = y_train[:10000]\n",
    "\n",
    "print(X_train.head())\n",
    "print(y_train.head())\n",
    "print(X_train.shape)\n",
    "print(y_train.shape)\n",
    "print(X_test.shape)\n",
    "print(y_test.shape)"
   ]
  },
  {
   "cell_type": "code",
   "execution_count": 490,
   "metadata": {},
   "outputs": [
    {
     "name": "stdout",
     "output_type": "stream",
     "text": [
      "    index                                                  0\n",
      "0  360865  is it bad to sleep on your left side all the t...\n",
      "1   71770  why does not the quora app introduce an option...\n",
      "2  134765                          how do i clone a website \n",
      "3  302549        can people actively control their emotions \n",
      "4  100578  what were some of mother teresa own contributi...\n"
     ]
    },
    {
     "name": "stderr",
     "output_type": "stream",
     "text": [
      "/var/folders/11/4w81_8697d9g_9c3944_ytwh0000gn/T/ipykernel_13355/3115984954.py:1: FutureWarning: The series.append method is deprecated and will be removed from pandas in a future version. Use pandas.concat instead.\n",
      "  com_data_train = X_train['question1'].append(X_train['question2']).reset_index()\n"
     ]
    }
   ],
   "source": [
    "com_data_train = X_train['question1'].append(X_train['question2']).reset_index()\n",
    "print(com_data_train.head())\n"
   ]
  },
  {
   "cell_type": "code",
   "execution_count": 491,
   "metadata": {},
   "outputs": [
    {
     "name": "stdout",
     "output_type": "stream",
     "text": [
      "                                            question\n",
      "0  is it bad to sleep on your left side all the t...\n",
      "1  why does not the quora app introduce an option...\n",
      "2                          how do i clone a website \n",
      "3        can people actively control their emotions \n",
      "4  what were some of mother teresa own contributi...\n"
     ]
    }
   ],
   "source": [
    "# drop the index column because it is not needed for creating the dictionary\n",
    "com_data_train.drop(['index'],axis=1,inplace=True) \n",
    "com_data_train.columns = ['question'] # rename the column\n",
    "print(com_data_train.head())"
   ]
  },
  {
   "cell_type": "code",
   "execution_count": 492,
   "metadata": {},
   "outputs": [
    {
     "name": "stdout",
     "output_type": "stream",
     "text": [
      "(20000, 1)\n"
     ]
    }
   ],
   "source": [
    "print(com_data_train.shape)"
   ]
  },
  {
   "attachments": {},
   "cell_type": "markdown",
   "metadata": {},
   "source": [
    "## Making a dictionary mapping a question to its duplicate question"
   ]
  },
  {
   "cell_type": "code",
   "execution_count": 493,
   "metadata": {},
   "outputs": [],
   "source": [
    "from nltk.corpus import stopwords\n",
    "stop_words = set(stopwords.words('english'))\n",
    "from datasketch import MinHash, MinHashLSH\n",
    "from tqdm import tqdm"
   ]
  },
  {
   "cell_type": "code",
   "execution_count": 494,
   "metadata": {},
   "outputs": [],
   "source": [
    "# Create a dictory of all dupllcated questions.\n",
    "correct = X_train[y_train==1]\n",
    "correct_dict = {}\n",
    "for x,y in zip(correct['question1'],correct['question2']):\n",
    "    if correct_dict.get(x)==None:\n",
    "        correct_dict[x] = [y]\n",
    "    else:\n",
    "        correct_dict[x].append(y)\n",
    "        correct_dict[x] = [i for i in set(correct_dict[x])]\n",
    "for x,y in zip(correct['question2'],correct['question1']):\n",
    "    if correct_dict.get(x)==None:\n",
    "        correct_dict[x] = [y]\n",
    "    else:\n",
    "        correct_dict[x].append(y)\n",
    "        correct_dict[x] = [i for i in set(correct_dict[x])]"
   ]
  },
  {
   "attachments": {},
   "cell_type": "markdown",
   "metadata": {},
   "source": [
    "## Set Representation"
   ]
  },
  {
   "cell_type": "code",
   "execution_count": 495,
   "metadata": {},
   "outputs": [
    {
     "name": "stderr",
     "output_type": "stream",
     "text": [
      "100%|██████████| 20000/20000 [00:00<00:00, 284839.48it/s]\n"
     ]
    }
   ],
   "source": [
    "set_dict={} # maps question to set representation of question\n",
    "norm_dict={} # maps question id (eg 'm1') to actual question. We may use this dictionary to evaluate results of LSH output.\n",
    "count=1\n",
    "\n",
    "for question in tqdm([x for x in com_data_train['question'] if type(x)==str]):\n",
    "    temp_list = []\n",
    "    for shingle in question.split(' '): # shingle is a word\n",
    "        if shingle not in stop_words:\n",
    "            temp_list.append(shingle.lower())\n",
    "    set_dict[\"m{}\".format(count)] = set(temp_list)\n",
    "    norm_dict[\"m{}\".format(count)] = question\n",
    "    count +=1"
   ]
  },
  {
   "cell_type": "code",
   "execution_count": 496,
   "metadata": {},
   "outputs": [
    {
     "data": {
      "text/plain": [
       "{'', 'bad', 'left', 'side', 'sleep', 'time'}"
      ]
     },
     "execution_count": 496,
     "metadata": {},
     "output_type": "execute_result"
    }
   ],
   "source": [
    "set_dict['m1']"
   ]
  },
  {
   "cell_type": "code",
   "execution_count": 497,
   "metadata": {},
   "outputs": [
    {
     "data": {
      "text/plain": [
       "'is it bad to sleep on your left side all the time '"
      ]
     },
     "execution_count": 497,
     "metadata": {},
     "output_type": "execute_result"
    }
   ],
   "source": [
    "norm_dict['m1']"
   ]
  },
  {
   "cell_type": "code",
   "execution_count": 498,
   "metadata": {},
   "outputs": [
    {
     "name": "stderr",
     "output_type": "stream",
     "text": [
      "100%|██████████| 20000/20000 [00:22<00:00, 879.82it/s]\n"
     ]
    }
   ],
   "source": [
    "num_perm = 256 # number of permutations for MinHash\n",
    "min_dict = {} # maps question to \"min hash signatures\"\n",
    "count2 = 1\n",
    "for val in tqdm (set_dict.values()): \n",
    "    m = MinHash(num_perm=num_perm)\n",
    "    for shingle in val:\n",
    "        m.update(shingle.encode('utf8'))\n",
    "    min_dict[\"m{}\".format(count2)] = m\n",
    "    count2+=1    \n",
    "# print(min_dict['m1'].hashvalues)"
   ]
  },
  {
   "cell_type": "code",
   "execution_count": 499,
   "metadata": {},
   "outputs": [],
   "source": [
    "def create_cand_pairs(lsh):\n",
    "    big_list = []\n",
    "    for query in min_dict.keys():\n",
    "        bucket = lsh.query(min_dict[query])\n",
    "        if len(bucket)==1:\n",
    "            big_list.append([bucket[0],\"None\"])\n",
    "        if len(bucket)>1:\n",
    "            first_val = bucket[0]\n",
    "            for val in bucket[1:]:\n",
    "                second_val = val\n",
    "                big_list.append([first_val,second_val])\n",
    "    return big_list"
   ]
  },
  {
   "cell_type": "code",
   "execution_count": 500,
   "metadata": {},
   "outputs": [],
   "source": [
    "def evaluation(cand_pairs):\n",
    "    tp = 0\n",
    "    fp = 0\n",
    "    fn = 0\n",
    "    for pair in cand_pairs:\n",
    "        if pair[1] == \"None\":\n",
    "            if str(norm_dict[pair[0]]) in correct_dict.keys():\n",
    "                    fn +=1\n",
    "        else:\n",
    "            if isinstance(correct_dict.get(norm_dict[pair[0]]), (list,)):\n",
    "                if norm_dict[pair[1]] in correct_dict.get(norm_dict[pair[0]]):\n",
    "                    tp +=1\n",
    "                else:\n",
    "                    fp +=1\n",
    "                    \n",
    "    precision = tp/(fp+tp)\n",
    "    recall = tp/(fn+tp)\n",
    "    print ('precision is {:.2f}'.format(precision))\n",
    "    print ('recall is {:.2f}'.format(recall))\n",
    "    return precision, recall"
   ]
  },
  {
   "cell_type": "code",
   "execution_count": 503,
   "metadata": {},
   "outputs": [
    {
     "name": "stderr",
     "output_type": "stream",
     "text": [
      "100%|██████████| 20000/20000 [00:06<00:00, 2898.29it/s]\n"
     ]
    },
    {
     "name": "stdout",
     "output_type": "stream",
     "text": [
      "precision is 0.00\n",
      "recall is 1.00\n"
     ]
    },
    {
     "name": "stderr",
     "output_type": "stream",
     "text": [
      "100%|██████████| 20000/20000 [00:01<00:00, 11674.84it/s]\n"
     ]
    },
    {
     "name": "stdout",
     "output_type": "stream",
     "text": [
      "precision is 0.01\n",
      "recall is 0.99\n"
     ]
    },
    {
     "name": "stderr",
     "output_type": "stream",
     "text": [
      "100%|██████████| 20000/20000 [00:02<00:00, 8510.86it/s] \n"
     ]
    },
    {
     "name": "stdout",
     "output_type": "stream",
     "text": [
      "precision is 0.04\n",
      "recall is 0.93\n"
     ]
    },
    {
     "name": "stderr",
     "output_type": "stream",
     "text": [
      "100%|██████████| 20000/20000 [00:02<00:00, 8757.81it/s] \n"
     ]
    },
    {
     "name": "stdout",
     "output_type": "stream",
     "text": [
      "precision is 0.09\n",
      "recall is 0.81\n"
     ]
    },
    {
     "name": "stderr",
     "output_type": "stream",
     "text": [
      "100%|██████████| 20000/20000 [00:02<00:00, 9242.38it/s] \n"
     ]
    },
    {
     "name": "stdout",
     "output_type": "stream",
     "text": [
      "precision is 0.20\n",
      "recall is 0.58\n"
     ]
    },
    {
     "name": "stderr",
     "output_type": "stream",
     "text": [
      "100%|██████████| 20000/20000 [00:00<00:00, 28359.02it/s]\n"
     ]
    },
    {
     "name": "stdout",
     "output_type": "stream",
     "text": [
      "precision is 0.28\n",
      "recall is 0.43\n"
     ]
    },
    {
     "name": "stderr",
     "output_type": "stream",
     "text": [
      "100%|██████████| 20000/20000 [00:00<00:00, 39773.53it/s]\n"
     ]
    },
    {
     "name": "stdout",
     "output_type": "stream",
     "text": [
      "precision is 0.34\n",
      "recall is 0.24\n"
     ]
    },
    {
     "name": "stderr",
     "output_type": "stream",
     "text": [
      "100%|██████████| 20000/20000 [00:00<00:00, 68065.15it/s]\n"
     ]
    },
    {
     "name": "stdout",
     "output_type": "stream",
     "text": [
      "precision is 0.35\n",
      "recall is 0.14\n"
     ]
    }
   ],
   "source": [
    "lsh_list = []\n",
    "precision_list = []\n",
    "recall_list = []\n",
    "\n",
    "for i in range(2,10):\n",
    "    lsh = MinHashLSH(threshold=i/10, num_perm=num_perm)\n",
    "    lsh_list.append(lsh)\n",
    "\n",
    "for lsh in lsh_list:\n",
    "    for key in tqdm(min_dict.keys()):\n",
    "        lsh.insert(key,min_dict[key])\n",
    "    precision, recall = evaluation(create_cand_pairs(lsh))\n",
    "    \n",
    "    precision_list.append(precision)\n",
    "    recall_list.append(recall)"
   ]
  },
  {
   "cell_type": "code",
   "execution_count": 502,
   "metadata": {},
   "outputs": [
    {
     "data": {
      "image/png": "[encoded data removed]",
      "text/plain": [
       "<Figure size 450x450 with 1 Axes>"
      ]
     },
     "metadata": {},
     "output_type": "display_data"
    }
   ],
   "source": [
    "fig, ax = plt.subplots(figsize=(4.5,4.5))\n",
    "plt.plot([i/10 for i in range(2,9)],precision_list, label='precision', linewidth=2)\n",
    "plt.plot([i/10 for i in range(2,9)],recall_list, label='recall',linewidth=2)\n",
    "plt.title(\"Precision and Recall for different thresholds\")\n",
    "plt.legend()\n",
    "plt.xlabel(\"Threshold\")\n",
    "plt.ylabel(\"Precision/Recall\")\n",
    "plt.tight_layout()\n",
    "plt.savefig(os.path.join(fig_folder, 'precision_recall.png'), dpi=450)\n",
    "plt.show()"
   ]
  }
 ],
 "metadata": {
  "kernelspec": {
   "display_name": "base",
   "language": "python",
   "name": "python3"
  },
  "language_info": {
   "codemirror_mode": {
    "name": "ipython",
    "version": 3
   },
   "file_extension": ".py",
   "mimetype": "text/x-python",
   "name": "python",
   "nbconvert_exporter": "python",
   "pygments_lexer": "ipython3",
   "version": "3.10.9"
  },
  "orig_nbformat": 4
 },
 "nbformat": 4,
 "nbformat_minor": 2
}
