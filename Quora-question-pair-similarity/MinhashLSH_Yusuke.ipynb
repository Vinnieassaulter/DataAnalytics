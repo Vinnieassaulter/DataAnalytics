{
 "cells": [
  {
   "attachments": {},
   "cell_type": "markdown",
   "metadata": {},
   "source": [
    "# Import library"
   ]
  },
  {
   "cell_type": "code",
   "execution_count": 3,
   "metadata": {},
   "outputs": [],
   "source": [
    "import os \n",
    "import numpy as np\n",
    "import pandas as pd\n",
    "import seaborn as sns\n",
    "import matplotlib.pyplot as plt\n",
    "from nltk.corpus import stopwords\n",
    "import datasketch   \n",
    "from tqdm import tqdm\n",
    "\n",
    "import nltk"
   ]
  },
  {
   "cell_type": "code",
   "execution_count": 4,
   "metadata": {},
   "outputs": [
    {
     "name": "stdout",
     "output_type": "stream",
     "text": [
      "/Users/yusuke_sugihara/DA_Project1/DataAnalytics/Quora-question-pair-similarity\n",
      "/Users/yusuke_sugihara/DA_Project1/DataAnalytics/data\n"
     ]
    }
   ],
   "source": [
    "print(os.getcwd())\n",
    "path = os.path.abspath(os.path.join(os.getcwd(), \"../data\"))\n",
    "print(path)\n",
    "# data_train = pd.read_csv(path + '/train.csv')\n",
    "data = pd.read_csv(path + '/train.csv',index_col='id')\n"
   ]
  },
  {
   "attachments": {},
   "cell_type": "markdown",
   "metadata": {},
   "source": [
    "# Preprocessing and Exploratory Data Analysis(Simple ver.)"
   ]
  },
  {
   "cell_type": "code",
   "execution_count": 5,
   "metadata": {},
   "outputs": [
    {
     "name": "stdout",
     "output_type": "stream",
     "text": [
      "(404290, 5)\n",
      "    qid1  qid2                                          question1  \\\n",
      "id                                                                  \n",
      "0      1     2  What is the step by step guide to invest in sh...   \n",
      "1      3     4  What is the story of Kohinoor (Koh-i-Noor) Dia...   \n",
      "2      5     6  How can I increase the speed of my internet co...   \n",
      "3      7     8  Why am I mentally very lonely? How can I solve...   \n",
      "4      9    10  Which one dissolve in water quikly sugar, salt...   \n",
      "\n",
      "                                            question2  is_duplicate  \n",
      "id                                                                   \n",
      "0   What is the step by step guide to invest in sh...             0  \n",
      "1   What would happen if the Indian government sto...             0  \n",
      "2   How can Internet speed be increased by hacking...             0  \n",
      "3   Find the remainder when [math]23^{24}[/math] i...             0  \n",
      "4             Which fish would survive in salt water?             0  \n"
     ]
    }
   ],
   "source": [
    "print(data.shape)\n",
    "print(data.head())"
   ]
  },
  {
   "cell_type": "code",
   "execution_count": 6,
   "metadata": {},
   "outputs": [
    {
     "name": "stdout",
     "output_type": "stream",
     "text": [
      "          qid1    qid2                                          question1  \\\n",
      "id                                                                          \n",
      "8067     15738   15739                 How do I play Pokémon GO in Korea?   \n",
      "368101   12736  104117  What are some of the best side dishes for crab...   \n",
      "70497   121486  121487  Which is more advisable and better material fo...   \n",
      "226567  254474  258192       How do I improve logical programming skills?   \n",
      "73186    48103    3062             How close we are to see 3rd world war?   \n",
      "215105  177688   83888   What do Chinese people think about Donald Trump?   \n",
      "253209  367707  153452    How many hours a week do Google employees work?   \n",
      "354651  483796   11244  How can we follow a Quora question privately w...   \n",
      "104478  172497  172498                    Why are cats so overprotective?   \n",
      "163628  254474  254475       How do I improve logical programming skills?   \n",
      "\n",
      "                                                question2  is_duplicate  \n",
      "id                                                                       \n",
      "8067                   How do I play Pokémon GO in China?             0  \n",
      "368101  What are some good side dishes for buffalo chi...             0  \n",
      "70497       What is the best server setup for buddypress?             0  \n",
      "226567  How can I improve my logical skills for progra...             1  \n",
      "73186                       How close is a World War III?             1  \n",
      "215105      What do Chinese people think of Donald Trump?             1  \n",
      "253209  How many hours a day do Google employees work ...             0  \n",
      "354651  How can we view private Instagram pictures wit...             0  \n",
      "104478     How do you know if your cat is overprotective?             1  \n",
      "163628  What is the best way to improve logical skills...             1  \n"
     ]
    }
   ],
   "source": [
    "print(data.sample(10, random_state=42))"
   ]
  },
  {
   "cell_type": "code",
   "execution_count": 7,
   "metadata": {},
   "outputs": [
    {
     "name": "stdout",
     "output_type": "stream",
     "text": [
      "<class 'pandas.core.frame.DataFrame'>\n",
      "Int64Index: 404290 entries, 0 to 404289\n",
      "Data columns (total 5 columns):\n",
      " #   Column        Non-Null Count   Dtype \n",
      "---  ------        --------------   ----- \n",
      " 0   qid1          404290 non-null  int64 \n",
      " 1   qid2          404290 non-null  int64 \n",
      " 2   question1     404289 non-null  object\n",
      " 3   question2     404288 non-null  object\n",
      " 4   is_duplicate  404290 non-null  int64 \n",
      "dtypes: int64(3), object(2)\n",
      "memory usage: 18.5+ MB\n"
     ]
    }
   ],
   "source": [
    "data.info()"
   ]
  },
  {
   "cell_type": "code",
   "execution_count": 8,
   "metadata": {},
   "outputs": [
    {
     "data": {
      "text/html": [
       "<div>\n",
       "<style scoped>\n",
       "    .dataframe tbody tr th:only-of-type {\n",
       "        vertical-align: middle;\n",
       "    }\n",
       "\n",
       "    .dataframe tbody tr th {\n",
       "        vertical-align: top;\n",
       "    }\n",
       "\n",
       "    .dataframe thead th {\n",
       "        text-align: right;\n",
       "    }\n",
       "</style>\n",
       "<table border=\"1\" class=\"dataframe\">\n",
       "  <thead>\n",
       "    <tr style=\"text-align: right;\">\n",
       "      <th></th>\n",
       "      <th>qid1</th>\n",
       "      <th>qid2</th>\n",
       "      <th>question1</th>\n",
       "      <th>question2</th>\n",
       "      <th>is_duplicate</th>\n",
       "    </tr>\n",
       "    <tr>\n",
       "      <th>id</th>\n",
       "      <th></th>\n",
       "      <th></th>\n",
       "      <th></th>\n",
       "      <th></th>\n",
       "      <th></th>\n",
       "    </tr>\n",
       "  </thead>\n",
       "  <tbody>\n",
       "    <tr>\n",
       "      <th>105780</th>\n",
       "      <td>174363</td>\n",
       "      <td>174364</td>\n",
       "      <td>How can I develop android app?</td>\n",
       "      <td>NaN</td>\n",
       "      <td>0</td>\n",
       "    </tr>\n",
       "    <tr>\n",
       "      <th>201841</th>\n",
       "      <td>303951</td>\n",
       "      <td>174364</td>\n",
       "      <td>How can I create an Android app?</td>\n",
       "      <td>NaN</td>\n",
       "      <td>0</td>\n",
       "    </tr>\n",
       "    <tr>\n",
       "      <th>363362</th>\n",
       "      <td>493340</td>\n",
       "      <td>493341</td>\n",
       "      <td>NaN</td>\n",
       "      <td>My Chinese name is Haichao Yu. What English na...</td>\n",
       "      <td>0</td>\n",
       "    </tr>\n",
       "  </tbody>\n",
       "</table>\n",
       "</div>"
      ],
      "text/plain": [
       "          qid1    qid2                         question1  \\\n",
       "id                                                         \n",
       "105780  174363  174364    How can I develop android app?   \n",
       "201841  303951  174364  How can I create an Android app?   \n",
       "363362  493340  493341                               NaN   \n",
       "\n",
       "                                                question2  is_duplicate  \n",
       "id                                                                       \n",
       "105780                                                NaN             0  \n",
       "201841                                                NaN             0  \n",
       "363362  My Chinese name is Haichao Yu. What English na...             0  "
      ]
     },
     "execution_count": 8,
     "metadata": {},
     "output_type": "execute_result"
    }
   ],
   "source": [
    "data[data.isnull().any(axis=1)]"
   ]
  },
  {
   "cell_type": "code",
   "execution_count": 9,
   "metadata": {},
   "outputs": [
    {
     "data": {
      "text/plain": [
       "(404287, 5)"
      ]
     },
     "execution_count": 9,
     "metadata": {},
     "output_type": "execute_result"
    }
   ],
   "source": [
    "data = data.dropna(how=\"any\").reset_index(drop=True)\n",
    "data.shape"
   ]
  },
  {
   "cell_type": "code",
   "execution_count": 10,
   "metadata": {},
   "outputs": [
    {
     "data": {
      "text/plain": [
       "0    255024\n",
       "1    149263\n",
       "Name: is_duplicate, dtype: int64"
      ]
     },
     "execution_count": 10,
     "metadata": {},
     "output_type": "execute_result"
    }
   ],
   "source": [
    "data['is_duplicate'].value_counts()"
   ]
  },
  {
   "cell_type": "code",
   "execution_count": 11,
   "metadata": {},
   "outputs": [
    {
     "data": {
      "text/plain": [
       "<Axes: ylabel='count'>"
      ]
     },
     "execution_count": 11,
     "metadata": {},
     "output_type": "execute_result"
    },
    {
     "data": {
      "image/png": "[encoded data removed]",
      "text/plain": [
       "<Figure size 640x480 with 1 Axes>"
      ]
     },
     "metadata": {},
     "output_type": "display_data"
    }
   ],
   "source": [
    "sns.countplot(data['is_duplicate'])"
   ]
  },
  {
   "cell_type": "code",
   "execution_count": 12,
   "metadata": {},
   "outputs": [
    {
     "name": "stdout",
     "output_type": "stream",
     "text": [
      "                                                question1  \\\n",
      "140907  What is the new method of angioplasty which co...   \n",
      "107095  On WhatsApp, it says on the message info that ...   \n",
      "27940   How do the holy scriptures of Hinduism compare...   \n",
      "157099  How long does it typically take to get a pilot...   \n",
      "111381  My questions haven't changed. Why are they now...   \n",
      "\n",
      "                                                question2  \n",
      "140907           How much does it cost to run a hospital?  \n",
      "107095  My friend is abroad and I have sent him messag...  \n",
      "27940   How do the holy scriptures of Hinduism compare...  \n",
      "157099  How much does it cost to get a private pilots ...  \n",
      "111381  What should I do if my question is being marke...  \n",
      "(1000, 2)\n",
      "140907    0\n",
      "107095    0\n",
      "27940     0\n",
      "157099    0\n",
      "111381    1\n",
      "Name: is_duplicate, dtype: int64\n",
      "(1000,)\n",
      "(121287, 2)\n"
     ]
    }
   ],
   "source": [
    "import pandas as pd\n",
    "from sklearn.model_selection import train_test_split\n",
    "# data_train = data_train.sample(2000, random_state=10)\n",
    "\n",
    "X = data[['question1', 'question2']]\n",
    "y = data['is_duplicate']\n",
    "\n",
    "X_train, X_test, y_train, y_test = train_test_split(X, y, test_size=0.3, random_state=42)\n",
    "\n",
    "X_train = X_train[:1000]\n",
    "y_train = y_train[:1000]\n",
    "# print(data.head())\n",
    "print(X_train.head())\n",
    "print(X_train.shape)\n",
    "print(y_train.head())\n",
    "print(y_train.shape)\n",
    "print(X_test.shape)"
   ]
  },
  {
   "cell_type": "code",
   "execution_count": 13,
   "metadata": {},
   "outputs": [
    {
     "name": "stdout",
     "output_type": "stream",
     "text": [
      "    index                                                  0\n",
      "0  140907  What is the new method of angioplasty which co...\n",
      "1  107095  On WhatsApp, it says on the message info that ...\n",
      "2   27940  How do the holy scriptures of Hinduism compare...\n",
      "3  157099  How long does it typically take to get a pilot...\n",
      "4  111381  My questions haven't changed. Why are they now...\n"
     ]
    },
    {
     "name": "stderr",
     "output_type": "stream",
     "text": [
      "/var/folders/11/4w81_8697d9g_9c3944_ytwh0000gn/T/ipykernel_79130/3115984954.py:1: FutureWarning: The series.append method is deprecated and will be removed from pandas in a future version. Use pandas.concat instead.\n",
      "  com_data_train = X_train['question1'].append(X_train['question2']).reset_index()\n"
     ]
    }
   ],
   "source": [
    "com_data_train = X_train['question1'].append(X_train['question2']).reset_index()\n",
    "print(com_data_train.head())\n"
   ]
  },
  {
   "cell_type": "code",
   "execution_count": 14,
   "metadata": {},
   "outputs": [
    {
     "name": "stdout",
     "output_type": "stream",
     "text": [
      "                                            question\n",
      "0  What is the new method of angioplasty which co...\n",
      "1  On WhatsApp, it says on the message info that ...\n",
      "2  How do the holy scriptures of Hinduism compare...\n",
      "3  How long does it typically take to get a pilot...\n",
      "4  My questions haven't changed. Why are they now...\n"
     ]
    }
   ],
   "source": [
    "com_data_train.drop(['index'],axis=1,inplace=True)\n",
    "com_data_train.columns = ['question']\n",
    "print(com_data_train.head())"
   ]
  },
  {
   "cell_type": "code",
   "execution_count": 15,
   "metadata": {},
   "outputs": [
    {
     "name": "stdout",
     "output_type": "stream",
     "text": [
      "(2000, 1)\n"
     ]
    }
   ],
   "source": [
    "print(com_data_train.shape)"
   ]
  },
  {
   "attachments": {},
   "cell_type": "markdown",
   "metadata": {},
   "source": [
    "## Making a dictionary mapping a question to its duplicate question"
   ]
  },
  {
   "cell_type": "code",
   "execution_count": 16,
   "metadata": {},
   "outputs": [],
   "source": [
    "from nltk.corpus import stopwords\n",
    "stop_words = set(stopwords.words('english'))\n",
    "from datasketch import MinHash, MinHashLSH\n",
    "from tqdm import tqdm"
   ]
  },
  {
   "cell_type": "code",
   "execution_count": 17,
   "metadata": {},
   "outputs": [],
   "source": [
    "# Create a dictory of all dupllcated questions.\n",
    "correct = X_train[y_train==1]\n",
    "correct_dict = {}\n",
    "for x,y in zip(correct['question1'],correct['question2']):\n",
    "    if correct_dict.get(x)==None:\n",
    "        correct_dict[x] = [y]\n",
    "    else:\n",
    "        correct_dict[x].append(y)\n",
    "        correct_dict[x] = [i for i in set(correct_dict[x])]\n",
    "for x,y in zip(correct['question2'],correct['question1']):\n",
    "    if correct_dict.get(x)==None:\n",
    "        correct_dict[x] = [y]\n",
    "    else:\n",
    "        correct_dict[x].append(y)\n",
    "        correct_dict[x] = [i for i in set(correct_dict[x])]"
   ]
  },
  {
   "attachments": {},
   "cell_type": "markdown",
   "metadata": {},
   "source": [
    "## Set Representation"
   ]
  },
  {
   "cell_type": "code",
   "execution_count": 18,
   "metadata": {},
   "outputs": [
    {
     "name": "stderr",
     "output_type": "stream",
     "text": [
      "100%|██████████| 2000/2000 [00:00<00:00, 192306.64it/s]\n"
     ]
    }
   ],
   "source": [
    "set_dict={} # maps question to set representation of question\n",
    "norm_dict={} # maps question id (eg 'm1') to actual question. We may use this dictionary to evaluate results of LSH output.\n",
    "count=1\n",
    "\n",
    "for question in tqdm([x for x in com_data_train['question'] if type(x)==str]):\n",
    "    temp_list = []\n",
    "    for shingle in question.split(' '): # shingle is a word\n",
    "        if shingle not in stop_words:\n",
    "            temp_list.append(shingle.lower())\n",
    "    set_dict[\"m{}\".format(count)] = set(temp_list)\n",
    "    norm_dict[\"m{}\".format(count)] = question\n",
    "    count +=1"
   ]
  },
  {
   "cell_type": "code",
   "execution_count": 19,
   "metadata": {},
   "outputs": [
    {
     "data": {
      "text/plain": [
       "{'5000/-',\n",
       " 'angioplasty',\n",
       " 'blockage?',\n",
       " 'costs',\n",
       " 'hospital',\n",
       " 'j',\n",
       " 'method',\n",
       " 'mumbai',\n",
       " 'new',\n",
       " 'removal',\n",
       " 'rs.',\n",
       " 'what'}"
      ]
     },
     "execution_count": 19,
     "metadata": {},
     "output_type": "execute_result"
    }
   ],
   "source": [
    "set_dict['m1']"
   ]
  },
  {
   "cell_type": "code",
   "execution_count": 20,
   "metadata": {},
   "outputs": [
    {
     "data": {
      "text/plain": [
       "'What is the new method of angioplasty which costs Rs. 5000/- at J J Hospital Mumbai for removal of blockage?'"
      ]
     },
     "execution_count": 20,
     "metadata": {},
     "output_type": "execute_result"
    }
   ],
   "source": [
    "norm_dict['m1']"
   ]
  },
  {
   "cell_type": "code",
   "execution_count": 21,
   "metadata": {},
   "outputs": [],
   "source": [
    "# set_dict.values()"
   ]
  },
  {
   "attachments": {},
   "cell_type": "markdown",
   "metadata": {},
   "source": [
    "## Create minHash signatures"
   ]
  },
  {
   "cell_type": "code",
   "execution_count": 22,
   "metadata": {},
   "outputs": [
    {
     "name": "stderr",
     "output_type": "stream",
     "text": [
      "100%|██████████| 2000/2000 [00:00<00:00, 4555.56it/s]"
     ]
    },
    {
     "name": "stdout",
     "output_type": "stream",
     "text": [
      "[ 115315364   40757083  480571076  499784847  124208477   39501873\n",
      "  657872351 1836235947  245478683   43240855]\n"
     ]
    },
    {
     "name": "stderr",
     "output_type": "stream",
     "text": [
      "\n"
     ]
    }
   ],
   "source": [
    "num_perm = 10\n",
    "min_dict = {} # maps question to \"min hash signatures\"\n",
    "count2 = 1\n",
    "for val in tqdm (set_dict.values()): \n",
    "    m = MinHash(num_perm=num_perm)\n",
    "    for shingle in val:\n",
    "        m.update(shingle.encode('utf8'))\n",
    "    min_dict[\"m{}\".format(count2)] = m\n",
    "    count2+=1\n",
    "print(min_dict['m1'].hashvalues)"
   ]
  },
  {
   "cell_type": "code",
   "execution_count": 23,
   "metadata": {},
   "outputs": [],
   "source": [
    "# # toy example\n",
    "\n",
    "# set1 = set(['minhash', 'is', 'a', 'probabilistic', 'data', 'structure', 'for',\n",
    "#             'estimating', 'the', 'similarity', 'between', 'datasets'])\n",
    "# set2 = set(['minhash', 'is', 'a', 'probability', 'data', 'structure', 'for',\n",
    "#             'estimating', 'the', 'similarity', 'between', 'documents'])\n",
    "# set3 = set(['minhash', 'is', 'probability', 'data', 'structure', 'for',\n",
    "#             'estimating', 'the', 'similarity', 'between', 'documents'])\n",
    "\n",
    "# m1 = MinHash(num_perm=10)\n",
    "# m2 = MinHash(num_perm=10)\n",
    "# m3 = MinHash(num_perm=10)\n",
    "# for d in set1:\n",
    "#     m1.update(d.encode('utf8'))\n",
    "# print(m1.hashvalues)\n",
    "# for d in set2:\n",
    "#     m2.update(d.encode('utf8'))\n",
    "# for d in set3:\n",
    "#     m3.update(d.encode('utf8'))\n"
   ]
  },
  {
   "attachments": {},
   "cell_type": "markdown",
   "metadata": {},
   "source": [
    "## Create LSH index"
   ]
  },
  {
   "cell_type": "code",
   "execution_count": 24,
   "metadata": {},
   "outputs": [
    {
     "name": "stderr",
     "output_type": "stream",
     "text": [
      "100%|██████████| 2000/2000 [00:00<00:00, 142704.66it/s]\n"
     ]
    }
   ],
   "source": [
    "lsh = MinHashLSH(threshold=0.6, num_perm=num_perm)\n",
    "for key in tqdm(min_dict.keys()):\n",
    "    lsh.insert(key,min_dict[key])"
   ]
  },
  {
   "cell_type": "code",
   "execution_count": 25,
   "metadata": {},
   "outputs": [],
   "source": [
    "def create_cand_pairs():\n",
    "    big_list = []\n",
    "    for query in min_dict.keys():\n",
    "        bucket = lsh.query(min_dict[query])\n",
    "        if len(bucket)==1:\n",
    "            big_list.append([bucket[0],\"None\"])\n",
    "        if len(bucket)>1:\n",
    "            first_val = bucket[0]\n",
    "            for val in bucket[1:]:\n",
    "                second_val = val\n",
    "                big_list.append([first_val,second_val])\n",
    "    return big_list"
   ]
  },
  {
   "cell_type": "code",
   "execution_count": 26,
   "metadata": {},
   "outputs": [
    {
     "name": "stdout",
     "output_type": "stream",
     "text": [
      "[['m1', 'None'], ['m1002', 'm2'], ['m3', 'None'], ['m4', 'None'], ['m5', 'None'], ['m6', 'None'], ['m7', 'None'], ['m8', 'm1008'], ['m9', 'None'], ['m10', 'None']]\n"
     ]
    }
   ],
   "source": [
    "cand_pairs = create_cand_pairs()\n",
    "print(cand_pairs[:10])"
   ]
  },
  {
   "cell_type": "code",
   "execution_count": 27,
   "metadata": {},
   "outputs": [],
   "source": [
    "def evaluation(cand_pairs):\n",
    "    tp = 0 # true positive\n",
    "    fp = 0 # false positive\n",
    "    fn = 0 # false negatives\n",
    "    for pair in cand_pairs:\n",
    "        if pair[1] == \"None\":\n",
    "            if str(norm_dict[pair[0]]) in correct_dict.keys():\n",
    "                    fn +=1\n",
    "        else:\n",
    "            if isinstance(correct_dict.get(norm_dict[pair[0]]), (list,)):\n",
    "                if norm_dict[pair[1]] in correct_dict.get(norm_dict[pair[0]]):\n",
    "                    tp +=1\n",
    "                else:\n",
    "                    fp +=1\n",
    "                    \n",
    "    precision = tp/(fp+tp)\n",
    "    recall = tp/(fn+tp)\n",
    "    print ('precision is {:.2f}'.format(precision))\n",
    "    print ('recall is {:.2f}'.format(recall))"
   ]
  },
  {
   "cell_type": "code",
   "execution_count": 28,
   "metadata": {},
   "outputs": [
    {
     "name": "stdout",
     "output_type": "stream",
     "text": [
      "precision is 0.33\n",
      "recall is 0.38\n"
     ]
    }
   ],
   "source": [
    "evaluation(cand_pairs)"
   ]
  }
 ],
 "metadata": {
  "kernelspec": {
   "display_name": "base",
   "language": "python",
   "name": "python3"
  },
  "language_info": {
   "codemirror_mode": {
    "name": "ipython",
    "version": 3
   },
   "file_extension": ".py",
   "mimetype": "text/x-python",
   "name": "python",
   "nbconvert_exporter": "python",
   "pygments_lexer": "ipython3",
   "version": "3.10.9"
  },
  "orig_nbformat": 4
 },
 "nbformat": 4,
 "nbformat_minor": 2
}
