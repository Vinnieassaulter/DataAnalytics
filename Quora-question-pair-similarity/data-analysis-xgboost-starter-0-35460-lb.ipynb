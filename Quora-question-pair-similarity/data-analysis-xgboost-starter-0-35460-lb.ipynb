{
 "cells": [
  {
   "cell_type": "code",
   "execution_count": 1,
   "metadata": {
    "_cell_guid": "d9f5b5bf-b8a8-a88a-a16c-7666be39bd7e"
   },
   "outputs": [],
   "source": [
    "import numpy as np # linear algebra\n",
    "import pandas as pd # data processing, CSV file I/O (e.g. pd.read_csv)\n",
    "import os\n",
    "import gc\n",
    "import matplotlib.pyplot as plt\n",
    "import seaborn as sns\n",
    "%matplotlib inline\n",
    "\n",
    "pal = sns.color_palette()\n",
    "\n",
    "# print('# File sizes')\n",
    "# for f in os.listdir('../input'):\n",
    "#     if 'zip' not in f:\n",
    "#         print(f.ljust(30) + str(round(os.path.getsize('data/' + f) / 1000000, 2)) + 'MB')"
   ]
  },
  {
   "attachments": {},
   "cell_type": "markdown",
   "metadata": {},
   "source": [
    "## Dataset Split"
   ]
  },
  {
   "cell_type": "code",
   "execution_count": 2,
   "metadata": {},
   "outputs": [
    {
     "data": {
      "text/html": [
       "<div>\n",
       "<style scoped>\n",
       "    .dataframe tbody tr th:only-of-type {\n",
       "        vertical-align: middle;\n",
       "    }\n",
       "\n",
       "    .dataframe tbody tr th {\n",
       "        vertical-align: top;\n",
       "    }\n",
       "\n",
       "    .dataframe thead th {\n",
       "        text-align: right;\n",
       "    }\n",
       "</style>\n",
       "<table border=\"1\" class=\"dataframe\">\n",
       "  <thead>\n",
       "    <tr style=\"text-align: right;\">\n",
       "      <th></th>\n",
       "      <th>test_id</th>\n",
       "      <th>qid1</th>\n",
       "      <th>qid2</th>\n",
       "      <th>question1</th>\n",
       "      <th>question2</th>\n",
       "      <th>is_duplicate</th>\n",
       "      <th>word_common</th>\n",
       "      <th>word_total</th>\n",
       "      <th>word_share</th>\n",
       "    </tr>\n",
       "  </thead>\n",
       "  <tbody>\n",
       "    <tr>\n",
       "      <th>0</th>\n",
       "      <td>0</td>\n",
       "      <td>153730</td>\n",
       "      <td>153731</td>\n",
       "      <td>how do i play orbiter space flight simulator</td>\n",
       "      <td>why is it that after more than 50 years of man...</td>\n",
       "      <td>0</td>\n",
       "      <td>1.0</td>\n",
       "      <td>31.0</td>\n",
       "      <td>0.032258</td>\n",
       "    </tr>\n",
       "    <tr>\n",
       "      <th>1</th>\n",
       "      <td>1</td>\n",
       "      <td>113726</td>\n",
       "      <td>33164</td>\n",
       "      <td>what is the difference between the republican ...</td>\n",
       "      <td>what is the difference between a democrat and ...</td>\n",
       "      <td>1</td>\n",
       "      <td>5.0</td>\n",
       "      <td>24.0</td>\n",
       "      <td>0.208333</td>\n",
       "    </tr>\n",
       "    <tr>\n",
       "      <th>2</th>\n",
       "      <td>2</td>\n",
       "      <td>319193</td>\n",
       "      <td>193762</td>\n",
       "      <td>what rights do you have if you have been accus...</td>\n",
       "      <td>what rights do you have if you have been accus...</td>\n",
       "      <td>0</td>\n",
       "      <td>19.0</td>\n",
       "      <td>40.0</td>\n",
       "      <td>0.475000</td>\n",
       "    </tr>\n",
       "    <tr>\n",
       "      <th>3</th>\n",
       "      <td>3</td>\n",
       "      <td>8023</td>\n",
       "      <td>16017</td>\n",
       "      <td>what were the major effects of the cambodia ea...</td>\n",
       "      <td>what were the major effects of the cambodia ea...</td>\n",
       "      <td>1</td>\n",
       "      <td>16.0</td>\n",
       "      <td>37.0</td>\n",
       "      <td>0.432432</td>\n",
       "    </tr>\n",
       "    <tr>\n",
       "      <th>4</th>\n",
       "      <td>4</td>\n",
       "      <td>83942</td>\n",
       "      <td>83943</td>\n",
       "      <td>how do you come to terms with the fact that yo...</td>\n",
       "      <td>is david duke a bad person</td>\n",
       "      <td>0</td>\n",
       "      <td>3.0</td>\n",
       "      <td>20.0</td>\n",
       "      <td>0.150000</td>\n",
       "    </tr>\n",
       "  </tbody>\n",
       "</table>\n",
       "</div>"
      ],
      "text/plain": [
       "   test_id    qid1    qid2                                          question1  \\\n",
       "0        0  153730  153731      how do i play orbiter space flight simulator    \n",
       "1        1  113726   33164  what is the difference between the republican ...   \n",
       "2        2  319193  193762  what rights do you have if you have been accus...   \n",
       "3        3    8023   16017  what were the major effects of the cambodia ea...   \n",
       "4        4   83942   83943  how do you come to terms with the fact that yo...   \n",
       "\n",
       "                                           question2  is_duplicate  \\\n",
       "0  why is it that after more than 50 years of man...             0   \n",
       "1  what is the difference between a democrat and ...             1   \n",
       "2  what rights do you have if you have been accus...             0   \n",
       "3  what were the major effects of the cambodia ea...             1   \n",
       "4                        is david duke a bad person              0   \n",
       "\n",
       "   word_common  word_total  word_share  \n",
       "0          1.0        31.0    0.032258  \n",
       "1          5.0        24.0    0.208333  \n",
       "2         19.0        40.0    0.475000  \n",
       "3         16.0        37.0    0.432432  \n",
       "4          3.0        20.0    0.150000  "
      ]
     },
     "execution_count": 2,
     "metadata": {},
     "output_type": "execute_result"
    }
   ],
   "source": [
    "df = pd.read_csv('data/train.csv')\n",
    "df_test = df.sample(frac=0.3)\n",
    "df_train = df[~df.index.isin(df_test.index)]\n",
    "df = df.reset_index()\n",
    "df_test = df_test.reset_index()\n",
    "df_test = df_test.drop(['index','id'],axis=1)\n",
    "df_test.insert(0,'test_id',df_test.index)\n",
    "df_test.head(5)"
   ]
  },
  {
   "cell_type": "code",
   "execution_count": 3,
   "metadata": {},
   "outputs": [
    {
     "data": {
      "text/html": [
       "<div>\n",
       "<style scoped>\n",
       "    .dataframe tbody tr th:only-of-type {\n",
       "        vertical-align: middle;\n",
       "    }\n",
       "\n",
       "    .dataframe tbody tr th {\n",
       "        vertical-align: top;\n",
       "    }\n",
       "\n",
       "    .dataframe thead th {\n",
       "        text-align: right;\n",
       "    }\n",
       "</style>\n",
       "<table border=\"1\" class=\"dataframe\">\n",
       "  <thead>\n",
       "    <tr style=\"text-align: right;\">\n",
       "      <th></th>\n",
       "      <th>id</th>\n",
       "      <th>qid1</th>\n",
       "      <th>qid2</th>\n",
       "      <th>question1</th>\n",
       "      <th>question2</th>\n",
       "      <th>is_duplicate</th>\n",
       "      <th>word_common</th>\n",
       "      <th>word_total</th>\n",
       "      <th>word_share</th>\n",
       "    </tr>\n",
       "  </thead>\n",
       "  <tbody>\n",
       "    <tr>\n",
       "      <th>0</th>\n",
       "      <td>0</td>\n",
       "      <td>1</td>\n",
       "      <td>2</td>\n",
       "      <td>what is the step by step guide to invest in sh...</td>\n",
       "      <td>what is the step by step guide to invest in sh...</td>\n",
       "      <td>0</td>\n",
       "      <td>10.0</td>\n",
       "      <td>23.0</td>\n",
       "      <td>0.434783</td>\n",
       "    </tr>\n",
       "    <tr>\n",
       "      <th>1</th>\n",
       "      <td>1</td>\n",
       "      <td>3</td>\n",
       "      <td>4</td>\n",
       "      <td>what is the story of kohinoor  koh i noor  dia...</td>\n",
       "      <td>what would happen if the indian government sto...</td>\n",
       "      <td>0</td>\n",
       "      <td>4.0</td>\n",
       "      <td>20.0</td>\n",
       "      <td>0.200000</td>\n",
       "    </tr>\n",
       "    <tr>\n",
       "      <th>3</th>\n",
       "      <td>3</td>\n",
       "      <td>7</td>\n",
       "      <td>8</td>\n",
       "      <td>why am i mentally very lonely  how can i solve...</td>\n",
       "      <td>find the remainder when  math 23  24   math  i...</td>\n",
       "      <td>0</td>\n",
       "      <td>0.0</td>\n",
       "      <td>19.0</td>\n",
       "      <td>0.000000</td>\n",
       "    </tr>\n",
       "    <tr>\n",
       "      <th>4</th>\n",
       "      <td>4</td>\n",
       "      <td>9</td>\n",
       "      <td>10</td>\n",
       "      <td>which one dissolve in water quikly sugar  salt...</td>\n",
       "      <td>which fish would survive in salt water</td>\n",
       "      <td>0</td>\n",
       "      <td>2.0</td>\n",
       "      <td>20.0</td>\n",
       "      <td>0.100000</td>\n",
       "    </tr>\n",
       "    <tr>\n",
       "      <th>5</th>\n",
       "      <td>5</td>\n",
       "      <td>11</td>\n",
       "      <td>12</td>\n",
       "      <td>astrology  i am a capricorn sun cap moon and c...</td>\n",
       "      <td>i am a triple capricorn  sun  moon and ascenda...</td>\n",
       "      <td>1</td>\n",
       "      <td>8.0</td>\n",
       "      <td>31.0</td>\n",
       "      <td>0.258065</td>\n",
       "    </tr>\n",
       "  </tbody>\n",
       "</table>\n",
       "</div>"
      ],
      "text/plain": [
       "   id  qid1  qid2                                          question1  \\\n",
       "0   0     1     2  what is the step by step guide to invest in sh...   \n",
       "1   1     3     4  what is the story of kohinoor  koh i noor  dia...   \n",
       "3   3     7     8  why am i mentally very lonely  how can i solve...   \n",
       "4   4     9    10  which one dissolve in water quikly sugar  salt...   \n",
       "5   5    11    12  astrology  i am a capricorn sun cap moon and c...   \n",
       "\n",
       "                                           question2  is_duplicate  \\\n",
       "0  what is the step by step guide to invest in sh...             0   \n",
       "1  what would happen if the indian government sto...             0   \n",
       "3  find the remainder when  math 23  24   math  i...             0   \n",
       "4            which fish would survive in salt water              0   \n",
       "5  i am a triple capricorn  sun  moon and ascenda...             1   \n",
       "\n",
       "   word_common  word_total  word_share  \n",
       "0         10.0        23.0    0.434783  \n",
       "1          4.0        20.0    0.200000  \n",
       "3          0.0        19.0    0.000000  \n",
       "4          2.0        20.0    0.100000  \n",
       "5          8.0        31.0    0.258065  "
      ]
     },
     "execution_count": 3,
     "metadata": {},
     "output_type": "execute_result"
    }
   ],
   "source": [
    "df_train.head(5)"
   ]
  },
  {
   "cell_type": "code",
   "execution_count": 4,
   "metadata": {},
   "outputs": [
    {
     "name": "stdout",
     "output_type": "stream",
     "text": [
      "True.\n"
     ]
    },
    {
     "data": {
      "text/plain": [
       "0.2999997526509633"
      ]
     },
     "execution_count": 4,
     "metadata": {},
     "output_type": "execute_result"
    }
   ],
   "source": [
    "if len(df) == len(df_test)+len(df_train):\n",
    "    print('True.')\n",
    "len(df_test)/len(df)"
   ]
  },
  {
   "attachments": {},
   "cell_type": "markdown",
   "metadata": {
    "_cell_guid": "39f2c240-caa5-675b-3e6e-f9195808b392"
   },
   "source": [
    "## Text analysis\n",
    "\n",
    "First off, some quick histograms to understand what we're looking at. **Most analysis here will be only on the training set, to avoid the auto-generated questions**"
   ]
  },
  {
   "cell_type": "code",
   "execution_count": 5,
   "metadata": {
    "_cell_guid": "ba41ab36-b287-4c5d-4ec5-a2c28034baa7"
   },
   "outputs": [
    {
     "name": "stdout",
     "output_type": "stream",
     "text": [
      "mean-train 60.02 std-train 32.22 mean-test 59.86 std-test 31.88 max-train 1173.00 max-test 1163.00\n"
     ]
    },
    {
     "data": {
      "image/png": "[encoded data removed]",
      "text/plain": [
       "<Figure size 900x600 with 1 Axes>"
      ]
     },
     "metadata": {},
     "output_type": "display_data"
    }
   ],
   "source": [
    "train_qs = pd.Series(df_train['question1'].tolist() + df_train['question2'].tolist()).astype(str)\n",
    "test_qs = pd.Series(df_test['question1'].tolist() + df_test['question2'].tolist()).astype(str)\n",
    "\n",
    "dist_train = train_qs.apply(len)\n",
    "dist_test = test_qs.apply(len)\n",
    "plt.figure(figsize=(9, 6))\n",
    "plt.hist(dist_train, bins=200, range=[0, 200], color=pal[2],  label='train')\n",
    "plt.hist(dist_test, bins=200, range=[0, 200], color=pal[1],  alpha=0.5, label='test')\n",
    "plt.title('Normalised histogram of character count in questions', fontsize=15)\n",
    "plt.legend()\n",
    "plt.xlabel('Number of characters', fontsize=15)\n",
    "plt.ylabel('Probability', fontsize=15)\n",
    "\n",
    "print('mean-train {:.2f} std-train {:.2f} mean-test {:.2f} std-test {:.2f} max-train {:.2f} max-test {:.2f}'.format(dist_train.mean(), \n",
    "                          dist_train.std(), dist_test.mean(), dist_test.std(), dist_train.max(), dist_test.max()))"
   ]
  },
  {
   "cell_type": "markdown",
   "metadata": {
    "_cell_guid": "0ed063c0-9d5c-bc09-9c48-22ff739859bd"
   },
   "source": [
    "We can see that most questions have anywhere from 15 to 150 characters in them. It seems that the test distribution is a little different from the train one, but not too much so (I can't tell if it is just the larger data reducing noise, but it also seems like the distribution is a lot smoother in the test set).\n",
    "\n",
    "One thing that catches my eye is the steep cut-off at 150 characters for the training set, for most questions, while the test set slowly decreases after 150. Could this be some sort of Quora question size limit?\n",
    "\n",
    "It's also worth noting that I've truncated this histogram at 200 characters, and that the max of the distribution is at just under 1200 characters for both sets - although samples with over 200 characters are very rare.\n",
    "\n",
    "Let's do the same for word count. I'll be using a naive method for splitting words (splitting on spaces instead of using a serious tokenizer), although this should still give us a good idea of the distribution."
   ]
  },
  {
   "cell_type": "code",
   "execution_count": 6,
   "metadata": {
    "_cell_guid": "2a86bc3f-1359-ef11-4411-ec5b54c6dca5"
   },
   "outputs": [
    {
     "name": "stdout",
     "output_type": "stream",
     "text": [
      "mean-train 12.71 std-train 6.75 mean-test 12.69 std-test 6.68 max-train 271.00 max-test 271.00\n"
     ]
    },
    {
     "data": {
      "image/png": "[encoded data removed]",
      "text/plain": [
       "<Figure size 900x600 with 1 Axes>"
      ]
     },
     "metadata": {},
     "output_type": "display_data"
    }
   ],
   "source": [
    "dist_train = train_qs.apply(lambda x: len(x.split(' ')))\n",
    "dist_test = test_qs.apply(lambda x: len(x.split(' ')))\n",
    "\n",
    "plt.figure(figsize=(9, 6))\n",
    "plt.hist(dist_train, bins=50, range=[0, 50], color=pal[2],  label='train')\n",
    "plt.hist(dist_test, bins=50, range=[0, 50], color=pal[1],  alpha=0.5, label='test')\n",
    "plt.title('Normalised histogram of word count in questions', fontsize=15)\n",
    "plt.legend()\n",
    "plt.xlabel('Number of words', fontsize=15)\n",
    "plt.ylabel('Probability', fontsize=15)\n",
    "\n",
    "print('mean-train {:.2f} std-train {:.2f} mean-test {:.2f} std-test {:.2f} max-train {:.2f} max-test {:.2f}'.format(dist_train.mean(), \n",
    "                          dist_train.std(), dist_test.mean(), dist_test.std(), dist_train.max(), dist_test.max()))"
   ]
  },
  {
   "cell_type": "markdown",
   "metadata": {
    "_cell_guid": "f7eb07e3-fe48-c4ca-359e-71e5c7a1a4b3"
   },
   "source": [
    "We see a similar distribution for word count, with most questions being about 10 words long. It looks to me like the distribution of the training set seems more \"pointy\", while on the test set it is wider. Nevertheless, they are quite similar.\n",
    "\n",
    "So what are the most common words? Let's take a look at a word cloud."
   ]
  },
  {
   "cell_type": "markdown",
   "metadata": {
    "_cell_guid": "656b602a-e321-6ee4-682a-e76959bccc19"
   },
   "source": [
    "# Initial Feature Analysis\n",
    "\n",
    "Before we create a model, we should take a look at how powerful some features are. I will start off with the word share feature from the benchmark model."
   ]
  },
  {
   "cell_type": "code",
   "execution_count": 7,
   "metadata": {
    "_cell_guid": "ef13480a-2522-2d1f-cf8a-56670e0856ab"
   },
   "outputs": [
    {
     "data": {
      "text/plain": [
       "Text(0.5, 0, 'word_match_share')"
      ]
     },
     "execution_count": 7,
     "metadata": {},
     "output_type": "execute_result"
    },
    {
     "data": {
      "image/png": "[encoded data removed]",
      "text/plain": [
       "<Figure size 1500x500 with 1 Axes>"
      ]
     },
     "metadata": {},
     "output_type": "display_data"
    }
   ],
   "source": [
    "from nltk.corpus import stopwords\n",
    "\n",
    "stops = set(stopwords.words(\"english\"))\n",
    "\n",
    "def word_match_share(row):\n",
    "    q1words = {}\n",
    "    q2words = {}\n",
    "    for word in str(row['question1']).lower().split():\n",
    "        if word not in stops:\n",
    "            q1words[word] = 1\n",
    "    for word in str(row['question2']).lower().split():\n",
    "        if word not in stops:\n",
    "            q2words[word] = 1\n",
    "    if len(q1words) == 0 or len(q2words) == 0:\n",
    "        # The computer-generated chaff includes a few questions that are nothing but stopwords\n",
    "        return 0\n",
    "    shared_words_in_q1 = [w for w in q1words.keys() if w in q2words]\n",
    "    shared_words_in_q2 = [w for w in q2words.keys() if w in q1words]\n",
    "    R = (len(shared_words_in_q1) + len(shared_words_in_q2))/(len(q1words) + len(q2words))\n",
    "    return R\n",
    "\n",
    "plt.figure(figsize=(15, 5))\n",
    "train_word_match = df_train.apply(word_match_share, axis=1)\n",
    "plt.hist(train_word_match[df_train['is_duplicate'] == 0], bins=20, label='Not Duplicate')\n",
    "plt.hist(train_word_match[df_train['is_duplicate'] == 1], bins=20, alpha=0.7, label='Duplicate')\n",
    "plt.legend()\n",
    "plt.title('Label distribution over word_match_share', fontsize=15)\n",
    "plt.xlabel('word_match_share', fontsize=15)"
   ]
  },
  {
   "attachments": {},
   "cell_type": "markdown",
   "metadata": {
    "_cell_guid": "24ce20d7-2c37-9833-dfdb-b4aac6b37e96"
   },
   "source": [
    "Here we can see that this feature has quite a lot of predictive power, as it is good at separating the duplicate questions from the non-duplicate ones. Interestingly, it seems very good at identifying questions which are definitely different, but is not so great at finding questions which are definitely duplicates.\n",
    "\n",
    "## TF-IDF\n",
    "\n",
    "I'm now going to try to improve this feature, by using something called TF-IDF (term-frequency-inverse-document-frequency). This means that we weigh the terms by how **uncommon** they are, meaning that we care more about rare words existing in both questions than common one. This makes sense, as for example we care more about whether the word \"exercise\" appears in both than the word \"and\" - as uncommon words will be more indicative of the content."
   ]
  },
  {
   "cell_type": "code",
   "execution_count": 8,
   "metadata": {
    "_cell_guid": "99d8e8e1-e2fd-25c6-137d-4492b850e1b5"
   },
   "outputs": [],
   "source": [
    "from collections import Counter\n",
    "\n",
    "# If a word appears only once, we ignore it completely (likely a typo)\n",
    "# Epsilon defines a smoothing constant, which makes the effect of extremely rare words smaller\n",
    "def get_weight(count, eps=10000, min_count=2):\n",
    "    if count < min_count:\n",
    "        return 0\n",
    "    else:\n",
    "        return 1 / (count + eps)\n",
    "\n",
    "eps = 5000 \n",
    "words = (\" \".join(train_qs)).lower().split()\n",
    "counts = Counter(words)\n",
    "weights = {word: get_weight(count) for word, count in counts.items()}"
   ]
  },
  {
   "cell_type": "code",
   "execution_count": 9,
   "metadata": {
    "_cell_guid": "d791c6b1-9860-7c3b-2b96-0767e607d6dc"
   },
   "outputs": [
    {
     "name": "stdout",
     "output_type": "stream",
     "text": [
      "Most common words and weights: \n",
      "\n",
      "[('the', 3.6421248156174313e-06), ('what', 4.2180388650101025e-06), ('is', 4.743900529893689e-06), ('i', 6.003878505514562e-06), ('how', 6.0737474414338905e-06), ('a', 6.297784439434207e-06), ('to', 6.475677355851422e-06), ('in', 6.755524330020874e-06), ('do', 7.771094636390483e-06), ('of', 8.216791835795632e-06)]\n",
      "\n",
      "Least common words and weights: \n"
     ]
    },
    {
     "data": {
      "text/plain": [
       "[('quikly', 9.998000399920016e-05),\n",
       " ('tiago', 9.998000399920016e-05),\n",
       " ('dcx3400', 9.998000399920016e-05),\n",
       " ('slits', 9.998000399920016e-05),\n",
       " ('3768', 9.998000399920016e-05),\n",
       " ('confederates', 9.998000399920016e-05),\n",
       " ('oitnb', 9.998000399920016e-05),\n",
       " ('forgetful', 9.998000399920016e-05),\n",
       " ('essex', 9.998000399920016e-05),\n",
       " ('prospering', 9.998000399920016e-05)]"
      ]
     },
     "execution_count": 9,
     "metadata": {},
     "output_type": "execute_result"
    }
   ],
   "source": [
    "print('Most common words and weights: \\n')\n",
    "print(sorted(weights.items(), key=lambda x: x[1] if x[1] > 0 else 9999)[:10])\n",
    "print('\\nLeast common words and weights: ')\n",
    "(sorted(weights.items(), key=lambda x: x[1], reverse=True)[:10])"
   ]
  },
  {
   "cell_type": "code",
   "execution_count": 10,
   "metadata": {
    "_cell_guid": "2c8f2e86-f96b-5d36-e2f1-5f4c4c903e26"
   },
   "outputs": [],
   "source": [
    "def tfidf_word_match_share(row):\n",
    "    q1words = {}\n",
    "    q2words = {}\n",
    "    for word in str(row['question1']).lower().split():\n",
    "        if word not in stops:\n",
    "            q1words[word] = 1\n",
    "    for word in str(row['question2']).lower().split():\n",
    "        if word not in stops:\n",
    "            q2words[word] = 1\n",
    "    if len(q1words) == 0 or len(q2words) == 0:\n",
    "        # The computer-generated chaff includes a few questions that are nothing but stopwords\n",
    "        return 0\n",
    "    \n",
    "    shared_weights = [weights.get(w, 0) for w in q1words.keys() if w in q2words] + [weights.get(w, 0) for w in q2words.keys() if w in q1words]\n",
    "    total_weights = [weights.get(w, 0) for w in q1words] + [weights.get(w, 0) for w in q2words]\n",
    "    \n",
    "    R = np.sum(shared_weights) / np.sum(total_weights)\n",
    "    return R"
   ]
  },
  {
   "cell_type": "code",
   "execution_count": 11,
   "metadata": {
    "_cell_guid": "157fd891-0b63-22df-4129-e4267cb55ff0"
   },
   "outputs": [
    {
     "name": "stderr",
     "output_type": "stream",
     "text": [
      "/var/folders/ql/fnvk6v291nxg7rmlwmh_m7m80000gn/T/ipykernel_7488/830548937.py:17: RuntimeWarning: invalid value encountered in scalar divide\n",
      "  R = np.sum(shared_weights) / np.sum(total_weights)\n"
     ]
    },
    {
     "data": {
      "text/plain": [
       "Text(0.5, 0, 'word_match_share')"
      ]
     },
     "execution_count": 11,
     "metadata": {},
     "output_type": "execute_result"
    },
    {
     "data": {
      "image/png": "[encoded data removed]",
      "text/plain": [
       "<Figure size 1500x500 with 1 Axes>"
      ]
     },
     "metadata": {},
     "output_type": "display_data"
    }
   ],
   "source": [
    "plt.figure(figsize=(15, 5))\n",
    "tfidf_train_word_match = df_train.apply(tfidf_word_match_share, axis=1)\n",
    "plt.hist(tfidf_train_word_match[df_train['is_duplicate'] == 0].fillna(0), bins=20, label='Not Duplicate')\n",
    "plt.hist(tfidf_train_word_match[df_train['is_duplicate'] == 1].fillna(0), bins=20, alpha=0.7, label='Duplicate')\n",
    "plt.legend()\n",
    "plt.title('Label distribution over tfidf_word_match_share', fontsize=15)\n",
    "plt.xlabel('word_match_share', fontsize=15)"
   ]
  },
  {
   "attachments": {},
   "cell_type": "markdown",
   "metadata": {
    "_cell_guid": "28b46d9f-82fe-c37e-010c-a3e115687d41"
   },
   "source": [
    "## Data Preparation"
   ]
  },
  {
   "cell_type": "code",
   "execution_count": 12,
   "metadata": {
    "_cell_guid": "0589da36-d092-c951-f3cd-68df3fd91c7a"
   },
   "outputs": [
    {
     "name": "stderr",
     "output_type": "stream",
     "text": [
      "/var/folders/ql/fnvk6v291nxg7rmlwmh_m7m80000gn/T/ipykernel_7488/830548937.py:17: RuntimeWarning: invalid value encountered in scalar divide\n",
      "  R = np.sum(shared_weights) / np.sum(total_weights)\n"
     ]
    }
   ],
   "source": [
    "# First we create our training and testing data\n",
    "x_train = pd.DataFrame()\n",
    "x_test = pd.DataFrame()\n",
    "x_train['word_match'] = train_word_match\n",
    "x_train['tfidf_word_match'] = tfidf_train_word_match\n",
    "x_test['word_match'] = df_test.apply(word_match_share, axis=1)\n",
    "x_test['tfidf_word_match'] = df_test.apply(tfidf_word_match_share, axis=1)\n",
    "\n",
    "y_train = df_train['is_duplicate'].values"
   ]
  },
  {
   "cell_type": "code",
   "execution_count": 13,
   "metadata": {
    "_cell_guid": "20684b12-fd83-bad6-b00b-77c51dd14c32"
   },
   "outputs": [],
   "source": [
    "# Finally, we split some of the data off for validation\n",
    "from sklearn.model_selection import train_test_split\n",
    "\n",
    "x_train, x_valid, y_train, y_valid = train_test_split(x_train, y_train, test_size=0.2, random_state=4242)"
   ]
  },
  {
   "cell_type": "markdown",
   "metadata": {
    "_cell_guid": "9df47145-da6a-ad51-7bfb-1b588c4bab06"
   },
   "source": [
    "## XGBoost\n",
    "\n",
    "Now we can finally run XGBoost on our data, in order to see the score on the leaderboard!"
   ]
  },
  {
   "cell_type": "code",
   "execution_count": 14,
   "metadata": {
    "_cell_guid": "a5f9f7fc-5ec4-fc9f-7fc0-608f5f25e7c6"
   },
   "outputs": [
    {
     "name": "stdout",
     "output_type": "stream",
     "text": [
      "[0]\ttrain-logloss:0.68776\tvalid-logloss:0.68777\n"
     ]
    },
    {
     "name": "stderr",
     "output_type": "stream",
     "text": [
      "/Users/panqiyang/mambaforge/envs/dl-mps/lib/python3.9/site-packages/xgboost/core.py:617: FutureWarning: Pass `evals` as keyword args.\n",
      "  warnings.warn(msg, FutureWarning)\n"
     ]
    },
    {
     "name": "stdout",
     "output_type": "stream",
     "text": [
      "[10]\ttrain-logloss:0.64384\tvalid-logloss:0.64392\n",
      "[20]\ttrain-logloss:0.61272\tvalid-logloss:0.61288\n",
      "[30]\ttrain-logloss:0.59000\tvalid-logloss:0.59023\n",
      "[40]\ttrain-logloss:0.57305\tvalid-logloss:0.57336\n",
      "[50]\ttrain-logloss:0.56007\tvalid-logloss:0.56043\n",
      "[60]\ttrain-logloss:0.55011\tvalid-logloss:0.55052\n",
      "[70]\ttrain-logloss:0.54232\tvalid-logloss:0.54276\n",
      "[80]\ttrain-logloss:0.53630\tvalid-logloss:0.53678\n",
      "[90]\ttrain-logloss:0.53153\tvalid-logloss:0.53204\n",
      "[100]\ttrain-logloss:0.52766\tvalid-logloss:0.52819\n",
      "[110]\ttrain-logloss:0.52458\tvalid-logloss:0.52511\n",
      "[120]\ttrain-logloss:0.52228\tvalid-logloss:0.52282\n",
      "[130]\ttrain-logloss:0.52047\tvalid-logloss:0.52102\n",
      "[140]\ttrain-logloss:0.51904\tvalid-logloss:0.51960\n",
      "[150]\ttrain-logloss:0.51788\tvalid-logloss:0.51845\n",
      "[160]\ttrain-logloss:0.51694\tvalid-logloss:0.51752\n",
      "[170]\ttrain-logloss:0.51613\tvalid-logloss:0.51672\n",
      "[180]\ttrain-logloss:0.51549\tvalid-logloss:0.51608\n",
      "[190]\ttrain-logloss:0.51496\tvalid-logloss:0.51555\n",
      "[200]\ttrain-logloss:0.51454\tvalid-logloss:0.51514\n",
      "[210]\ttrain-logloss:0.51416\tvalid-logloss:0.51476\n",
      "[220]\ttrain-logloss:0.51384\tvalid-logloss:0.51444\n",
      "[230]\ttrain-logloss:0.51358\tvalid-logloss:0.51418\n",
      "[240]\ttrain-logloss:0.51335\tvalid-logloss:0.51396\n",
      "[250]\ttrain-logloss:0.51311\tvalid-logloss:0.51372\n",
      "[260]\ttrain-logloss:0.51284\tvalid-logloss:0.51347\n",
      "[270]\ttrain-logloss:0.51261\tvalid-logloss:0.51325\n",
      "[280]\ttrain-logloss:0.51237\tvalid-logloss:0.51302\n",
      "[290]\ttrain-logloss:0.51220\tvalid-logloss:0.51286\n",
      "[300]\ttrain-logloss:0.51204\tvalid-logloss:0.51271\n",
      "[310]\ttrain-logloss:0.51188\tvalid-logloss:0.51255\n",
      "[320]\ttrain-logloss:0.51177\tvalid-logloss:0.51246\n",
      "[330]\ttrain-logloss:0.51167\tvalid-logloss:0.51237\n",
      "[340]\ttrain-logloss:0.51153\tvalid-logloss:0.51227\n",
      "[350]\ttrain-logloss:0.51141\tvalid-logloss:0.51219\n",
      "[360]\ttrain-logloss:0.51125\tvalid-logloss:0.51206\n",
      "[370]\ttrain-logloss:0.51104\tvalid-logloss:0.51186\n",
      "[380]\ttrain-logloss:0.51085\tvalid-logloss:0.51170\n",
      "[390]\ttrain-logloss:0.51072\tvalid-logloss:0.51160\n",
      "[399]\ttrain-logloss:0.51059\tvalid-logloss:0.51149\n"
     ]
    }
   ],
   "source": [
    "import xgboost as xgb\n",
    "\n",
    "# Set our parameters for xgboost\n",
    "params = {}\n",
    "params['objective'] = 'binary:logistic'\n",
    "params['eval_metric'] = 'logloss'\n",
    "params['eta'] = 0.02\n",
    "params['max_depth'] = 4\n",
    "\n",
    "d_train = xgb.DMatrix(x_train, label=y_train)\n",
    "d_valid = xgb.DMatrix(x_valid, label=y_valid)\n",
    "\n",
    "watchlist = [(d_train, 'train'), (d_valid, 'valid')]\n",
    "\n",
    "bst = xgb.train(params, d_train, 400, watchlist, early_stopping_rounds=50, verbose_eval=10)"
   ]
  },
  {
   "cell_type": "code",
   "execution_count": 31,
   "metadata": {
    "_cell_guid": "11616998-a057-45e0-ac3c-d129e5cfec36"
   },
   "outputs": [
    {
     "data": {
      "text/html": [
       "<div>\n",
       "<style scoped>\n",
       "    .dataframe tbody tr th:only-of-type {\n",
       "        vertical-align: middle;\n",
       "    }\n",
       "\n",
       "    .dataframe tbody tr th {\n",
       "        vertical-align: top;\n",
       "    }\n",
       "\n",
       "    .dataframe thead th {\n",
       "        text-align: right;\n",
       "    }\n",
       "</style>\n",
       "<table border=\"1\" class=\"dataframe\">\n",
       "  <thead>\n",
       "    <tr style=\"text-align: right;\">\n",
       "      <th></th>\n",
       "      <th>test_id</th>\n",
       "      <th>pred</th>\n",
       "      <th>pred_duplicate</th>\n",
       "      <th>is_duplicate</th>\n",
       "    </tr>\n",
       "  </thead>\n",
       "  <tbody>\n",
       "    <tr>\n",
       "      <th>0</th>\n",
       "      <td>0</td>\n",
       "      <td>0.011422</td>\n",
       "      <td>0</td>\n",
       "      <td>0</td>\n",
       "    </tr>\n",
       "    <tr>\n",
       "      <th>1</th>\n",
       "      <td>1</td>\n",
       "      <td>0.395479</td>\n",
       "      <td>0</td>\n",
       "      <td>1</td>\n",
       "    </tr>\n",
       "    <tr>\n",
       "      <th>2</th>\n",
       "      <td>2</td>\n",
       "      <td>0.486046</td>\n",
       "      <td>0</td>\n",
       "      <td>0</td>\n",
       "    </tr>\n",
       "    <tr>\n",
       "      <th>3</th>\n",
       "      <td>3</td>\n",
       "      <td>0.551407</td>\n",
       "      <td>1</td>\n",
       "      <td>1</td>\n",
       "    </tr>\n",
       "    <tr>\n",
       "      <th>4</th>\n",
       "      <td>4</td>\n",
       "      <td>0.474368</td>\n",
       "      <td>0</td>\n",
       "      <td>0</td>\n",
       "    </tr>\n",
       "  </tbody>\n",
       "</table>\n",
       "</div>"
      ],
      "text/plain": [
       "   test_id      pred  pred_duplicate  is_duplicate\n",
       "0        0  0.011422               0             0\n",
       "1        1  0.395479               0             1\n",
       "2        2  0.486046               0             0\n",
       "3        3  0.551407               1             1\n",
       "4        4  0.474368               0             0"
      ]
     },
     "execution_count": 31,
     "metadata": {},
     "output_type": "execute_result"
    }
   ],
   "source": [
    "d_test = xgb.DMatrix(x_test)\n",
    "p_test = bst.predict(d_test)\n",
    "\n",
    "threshold = 0.5\n",
    "\n",
    "def pred_dup(row):\n",
    "    if row['pred']<=threshold:\n",
    "        return 0\n",
    "    else:\n",
    "        return 1\n",
    "\n",
    "sub = pd.DataFrame()\n",
    "sub['test_id'] = df_test['test_id']\n",
    "sub['pred'] = p_test\n",
    "sub['pred_duplicate'] = sub.apply(pred_dup, axis=1)\n",
    "sub['is_duplicate'] = df_test['is_duplicate']\n",
    "# sub.to_csv('simple_xgb.csv', index=False)\n",
    "sub.head(5)"
   ]
  },
  {
   "cell_type": "code",
   "execution_count": 33,
   "metadata": {},
   "outputs": [
    {
     "data": {
      "text/plain": [
       "0.6937898850650529"
      ]
     },
     "execution_count": 33,
     "metadata": {},
     "output_type": "execute_result"
    }
   ],
   "source": [
    "def hit(row):\n",
    "    if row['pred_duplicate']==row['is_duplicate']:\n",
    "        return 1\n",
    "    else:\n",
    "        return 0\n",
    "    \n",
    "sub['correct'] = sub.apply(hit,axis=1)\n",
    "acc = sub['correct'].sum()/len(sub)\n",
    "acc"
   ]
  },
  {
   "cell_type": "code",
   "execution_count": 45,
   "metadata": {},
   "outputs": [
    {
     "data": {
      "text/plain": [
       "0.5881632834757835"
      ]
     },
     "execution_count": 45,
     "metadata": {},
     "output_type": "execute_result"
    }
   ],
   "source": [
    "prec = len(sub.loc[(sub['is_duplicate']==1) & (sub['pred_duplicate']==1)])/len(sub.loc[sub['pred_duplicate']==1])\n",
    "prec"
   ]
  },
  {
   "cell_type": "code",
   "execution_count": 46,
   "metadata": {},
   "outputs": [
    {
     "data": {
      "text/plain": [
       "0.5864272874547836"
      ]
     },
     "execution_count": 46,
     "metadata": {},
     "output_type": "execute_result"
    }
   ],
   "source": [
    "# sub[sub['is_duplicate']==1 & sub['pred_duplicate']==1]\n",
    "recall = len(sub.loc[(sub['is_duplicate']==1) & (sub['pred_duplicate']==1)])/len(sub.loc[sub['is_duplicate']==1])\n",
    "recall"
   ]
  }
 ],
 "metadata": {
  "_change_revision": 2,
  "_is_fork": false,
  "kernelspec": {
   "display_name": "Python 3",
   "language": "python",
   "name": "python3"
  },
  "language_info": {
   "codemirror_mode": {
    "name": "ipython",
    "version": 3
   },
   "file_extension": ".py",
   "mimetype": "text/x-python",
   "name": "python",
   "nbconvert_exporter": "python",
   "pygments_lexer": "ipython3",
   "version": "3.9.16"
  }
 },
 "nbformat": 4,
 "nbformat_minor": 0
}
